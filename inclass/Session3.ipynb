{
 "cells": [
  {
   "cell_type": "markdown",
   "metadata": {},
   "source": [
    "# Session 1\n",
    "1. Talk about programming in general with Python 3 (Scripting language)\n",
    "2. Install setup, show how to create virtual env\n",
    "3. Anaconda vs Python\n",
    "4. Installing packages using pip, conda # next session\n",
    "5. Setup Pycharm\n",
    "6. Jupyter Notebook\n",
    "7. Intepreters\n",
    "8. Running python scripts in terminal\n",
    "9. Data Types (NUMBERS, STR, ARRAY, \n",
    "# tomorrow\n",
    "'DICT)\n",
    "10. Control Statements (if, for , while)\n",
    "11. Practice problems"
   ]
  },
  {
   "cell_type": "code",
   "execution_count": null,
   "metadata": {
    "collapsed": true
   },
   "outputs": [],
   "source": [
    "# Linear Search\n",
    "\n",
    "[1,2,3,4,5, 6,7,8 ,9, 10]\n",
    "\n",
    "# find the number 10\n",
    "\n",
    "total no of steps it took:  10\n",
    "x = [1,2,3,4,5]\n",
    "n = lenth of x = 5\n",
    "\n",
    "n -> len of the list\n",
    "# find the num 10:\n",
    "num 10, not found: \n",
    "    \n",
    "    total no of steps to find a number in the worst case is going to\n",
    "    be  O(n), linear time\n",
    "    \n",
    "# Binary search\n",
    "element: 9\n",
    "list_x = [1,2,3,4,5, 6,7,8 ,9, 10] \n",
    "lenght(list_x) = 10//2\n",
    "first_list = [1,2,3,4,5, 6,7,8 ,9, 10] \n",
    "if element > first_list[-1]:\n",
    "    if 9 > 10\n",
    "elif element == last elem\n",
    "[1,2,3,4,5] , [6,7,8 ,9, 10]\n",
    "[6,7,8 ,9, 10]\n",
    "\n",
    "[9, 10]\n",
    "list_x = [9 | 10]\n"
   ]
  },
  {
   "cell_type": "code",
   "execution_count": 1,
   "metadata": {
    "collapsed": false
   },
   "outputs": [
    {
     "data": {
      "text/plain": [
       "6"
      ]
     },
     "execution_count": 1,
     "metadata": {},
     "output_type": "execute_result"
    }
   ],
   "source": [
    "sum([2,4])"
   ]
  },
  {
   "cell_type": "code",
   "execution_count": 2,
   "metadata": {
    "collapsed": true
   },
   "outputs": [],
   "source": [
    "import numpy "
   ]
  },
  {
   "cell_type": "code",
   "execution_count": null,
   "metadata": {
    "collapsed": true
   },
   "outputs": [],
   "source": [
    "numpy.dot([])"
   ]
  },
  {
   "cell_type": "code",
   "execution_count": null,
   "metadata": {
    "collapsed": true
   },
   "outputs": [],
   "source": [
    "# Numbers (int, float)\n",
    "# Array (List, Tuples)\n",
    "# Dict (JSON)\n",
    "# STRINGS (STR)\n",
    "# Boolean (True/Flase)"
   ]
  },
  {
   "cell_type": "code",
   "execution_count": 5,
   "metadata": {
    "collapsed": true
   },
   "outputs": [],
   "source": [
    "num1 = 10.5"
   ]
  },
  {
   "cell_type": "code",
   "execution_count": 6,
   "metadata": {
    "collapsed": false
   },
   "outputs": [
    {
     "data": {
      "text/plain": [
       "10.5"
      ]
     },
     "execution_count": 6,
     "metadata": {},
     "output_type": "execute_result"
    }
   ],
   "source": [
    "num1"
   ]
  },
  {
   "cell_type": "code",
   "execution_count": 7,
   "metadata": {
    "collapsed": true
   },
   "outputs": [],
   "source": [
    "# [4, 5, 6, 7, 8]\n",
    "# 0.  1.  2. 3. 4  # represents index\n",
    "\n",
    "\n",
    "x = [4, 5, 6, 7, 8]"
   ]
  },
  {
   "cell_type": "code",
   "execution_count": 13,
   "metadata": {
    "collapsed": false
   },
   "outputs": [
    {
     "name": "stdout",
     "output_type": "stream",
     "text": [
      "1:4 : [5, 6, 7]\n",
      "1:2 : [5]\n",
      "2:3 : [6]\n",
      "2: : [6, 7, 8]\n"
     ]
    }
   ],
   "source": [
    "print(\"1:4 :\",x[1:4])\n",
    "print(\"1:2 :\",x[1:2])\n",
    "print(\"2:3 :\",x[2:3])\n",
    "\n"
   ]
  },
  {
   "cell_type": "code",
   "execution_count": 14,
   "metadata": {
    "collapsed": false
   },
   "outputs": [
    {
     "data": {
      "text/plain": [
       "6"
      ]
     },
     "execution_count": 14,
     "metadata": {},
     "output_type": "execute_result"
    }
   ],
   "source": []
  },
  {
   "cell_type": "code",
   "execution_count": 15,
   "metadata": {
    "collapsed": true
   },
   "outputs": [],
   "source": [
    "x = []\n",
    "x =    [4, 3, 1, 9]\n",
    "    #-1 -3 -2 -1 0. 1. 2. 3 "
   ]
  },
  {
   "cell_type": "code",
   "execution_count": 16,
   "metadata": {
    "collapsed": false
   },
   "outputs": [
    {
     "data": {
      "text/plain": [
       "9"
      ]
     },
     "execution_count": 16,
     "metadata": {},
     "output_type": "execute_result"
    }
   ],
   "source": [
    "x[3]"
   ]
  },
  {
   "cell_type": "code",
   "execution_count": 17,
   "metadata": {
    "collapsed": false
   },
   "outputs": [
    {
     "data": {
      "text/plain": [
       "4"
      ]
     },
     "execution_count": 17,
     "metadata": {},
     "output_type": "execute_result"
    }
   ],
   "source": [
    "x[-4]"
   ]
  },
  {
   "cell_type": "code",
   "execution_count": 18,
   "metadata": {
    "collapsed": false
   },
   "outputs": [
    {
     "data": {
      "text/plain": [
       "[4, 3, 1, 9]"
      ]
     },
     "execution_count": 18,
     "metadata": {},
     "output_type": "execute_result"
    }
   ],
   "source": [
    "x"
   ]
  },
  {
   "cell_type": "code",
   "execution_count": 19,
   "metadata": {
    "collapsed": true
   },
   "outputs": [],
   "source": [
    "x.remove(9)"
   ]
  },
  {
   "cell_type": "code",
   "execution_count": 20,
   "metadata": {
    "collapsed": false
   },
   "outputs": [
    {
     "data": {
      "text/plain": [
       "[4, 3, 1]"
      ]
     },
     "execution_count": 20,
     "metadata": {},
     "output_type": "execute_result"
    }
   ],
   "source": [
    "x"
   ]
  },
  {
   "cell_type": "code",
   "execution_count": 21,
   "metadata": {
    "collapsed": true
   },
   "outputs": [],
   "source": [
    "x = [1,3,4,1,9]"
   ]
  },
  {
   "cell_type": "code",
   "execution_count": 22,
   "metadata": {
    "collapsed": true
   },
   "outputs": [],
   "source": [
    "x.remove(1)"
   ]
  },
  {
   "cell_type": "code",
   "execution_count": 23,
   "metadata": {
    "collapsed": false
   },
   "outputs": [
    {
     "data": {
      "text/plain": [
       "[3, 4, 1, 9]"
      ]
     },
     "execution_count": 23,
     "metadata": {},
     "output_type": "execute_result"
    }
   ],
   "source": [
    "x"
   ]
  },
  {
   "cell_type": "code",
   "execution_count": 24,
   "metadata": {
    "collapsed": false
   },
   "outputs": [
    {
     "data": {
      "text/plain": [
       "[3, 4, 1, 9]"
      ]
     },
     "execution_count": 24,
     "metadata": {},
     "output_type": "execute_result"
    }
   ],
   "source": [
    "x"
   ]
  },
  {
   "cell_type": "code",
   "execution_count": 31,
   "metadata": {
    "collapsed": false
   },
   "outputs": [],
   "source": [
    "x[1] = str(x[0])"
   ]
  },
  {
   "cell_type": "code",
   "execution_count": 32,
   "metadata": {
    "collapsed": false
   },
   "outputs": [
    {
     "data": {
      "text/plain": [
       "['3.0', '3.0', 1, 9]"
      ]
     },
     "execution_count": 32,
     "metadata": {},
     "output_type": "execute_result"
    }
   ],
   "source": [
    "x\n"
   ]
  },
  {
   "cell_type": "code",
   "execution_count": 33,
   "metadata": {
    "collapsed": true
   },
   "outputs": [],
   "source": [
    "for i in range(0, len(x)):\n",
    "    x[i] = str(x[i])"
   ]
  },
  {
   "cell_type": "code",
   "execution_count": null,
   "metadata": {
    "collapsed": true
   },
   "outputs": [],
   "source": []
  },
  {
   "cell_type": "code",
   "execution_count": 34,
   "metadata": {
    "collapsed": false
   },
   "outputs": [
    {
     "data": {
      "text/plain": [
       "['3.0', '3.0', '1', '9']"
      ]
     },
     "execution_count": 34,
     "metadata": {},
     "output_type": "execute_result"
    }
   ],
   "source": [
    "x"
   ]
  },
  {
   "cell_type": "code",
   "execution_count": 35,
   "metadata": {
    "collapsed": false
   },
   "outputs": [
    {
     "data": {
      "text/plain": [
       "['3.0', '3.0', '1', '9']"
      ]
     },
     "execution_count": 35,
     "metadata": {},
     "output_type": "execute_result"
    }
   ],
   "source": [
    "x\n"
   ]
  },
  {
   "cell_type": "code",
   "execution_count": 36,
   "metadata": {
    "collapsed": true
   },
   "outputs": [],
   "source": [
    "del x[0]"
   ]
  },
  {
   "cell_type": "code",
   "execution_count": 37,
   "metadata": {
    "collapsed": false
   },
   "outputs": [
    {
     "data": {
      "text/plain": [
       "['3.0', '1', '9']"
      ]
     },
     "execution_count": 37,
     "metadata": {},
     "output_type": "execute_result"
    }
   ],
   "source": [
    "x"
   ]
  },
  {
   "cell_type": "code",
   "execution_count": 38,
   "metadata": {
    "collapsed": true
   },
   "outputs": [],
   "source": [
    "del x"
   ]
  },
  {
   "cell_type": "code",
   "execution_count": 39,
   "metadata": {
    "collapsed": false
   },
   "outputs": [
    {
     "ename": "NameError",
     "evalue": "name 'x' is not defined",
     "traceback": [
      "\u001b[0;31m---------------------------------------------------------------------------\u001b[0m",
      "\u001b[0;31mNameError\u001b[0m                                 Traceback (most recent call last)",
      "\u001b[0;32m<ipython-input-39-401b30e3b8b5>\u001b[0m in \u001b[0;36m<module>\u001b[0;34m()\u001b[0m\n\u001b[0;32m----> 1\u001b[0;31m \u001b[0mx\u001b[0m\u001b[0;34m\u001b[0m\u001b[0m\n\u001b[0m",
      "\u001b[0;31mNameError\u001b[0m: name 'x' is not defined"
     ],
     "output_type": "error"
    }
   ],
   "source": [
    "x"
   ]
  },
  {
   "cell_type": "code",
   "execution_count": 40,
   "metadata": {
    "collapsed": true
   },
   "outputs": [],
   "source": [
    "x_str = [\"nokia\", \"iphone 6\", \"iphone 7\", \"iph\"]"
   ]
  },
  {
   "cell_type": "code",
   "execution_count": 49,
   "metadata": {
    "collapsed": false
   },
   "outputs": [],
   "source": [
    "x_str_test = \"iphone\""
   ]
  },
  {
   "cell_type": "code",
   "execution_count": 50,
   "metadata": {
    "collapsed": true
   },
   "outputs": [],
   "source": [
    "search_key = \"iph\""
   ]
  },
  {
   "cell_type": "code",
   "execution_count": 51,
   "metadata": {
    "collapsed": false
   },
   "outputs": [
    {
     "data": {
      "text/plain": [
       "3"
      ]
     },
     "execution_count": 51,
     "metadata": {},
     "output_type": "execute_result"
    }
   ],
   "source": [
    "len(search_key)"
   ]
  },
  {
   "cell_type": "code",
   "execution_count": 52,
   "metadata": {
    "collapsed": false
   },
   "outputs": [
    {
     "data": {
      "text/plain": [
       "'iph'"
      ]
     },
     "execution_count": 52,
     "metadata": {},
     "output_type": "execute_result"
    }
   ],
   "source": [
    "x_str_test[0:len(search_key)]"
   ]
  },
  {
   "cell_type": "markdown",
   "metadata": {},
   "source": [
    "# Assignment\n",
    "\n",
    "1. Write a Python program to add 2 arrays and save the result into a new array.\n",
    "[3,6,4,7]\n",
    "[99.0,23,1,5.6]\n",
    "\n",
    "2. Remove the negative elements from the array.\n",
    "[10,-4,5,6,-8,9,0,5,-3,1]\n",
    "\n",
    "3. What will be the complexity for finding the element 6 in the following array:\n",
    "[10,4,5,6,8,9,0,5,3,1]\n",
    "1. Using Linear Search \n",
    "2. using Binary Search\n",
    "\n",
    "4. Find the smallest element of the array:\n",
    "[10,4,5,6,8,9,0,5,3,1]\n",
    "\n",
    "\n",
    " 5. Write a Python program to get a string made of the first 2 and the last 2 chars from a given a string. If the string length is less than 2, return instead of the empty string. \n",
    " Sample: 'CONCORDIA'\n",
    " Result: 'COIA'\n",
    " Sample: \"TO\"\n",
    " Result: \"TOTO\"\n",
    " Sample: \"A\"\n",
    " Result: Empty String\n",
    "\n",
    "\n",
    "6. Write a Python program to remove the nth index character from a nonempty string.\n",
    "Sample: \"Concordia\" INDEX: 5 (character 'r')\n",
    "Result: \"Concodia\"\u2029"
   ]
  },
  {
   "cell_type": "code",
   "execution_count": 22,
   "metadata": {
    "collapsed": false
   },
   "outputs": [
    {
     "data": {
      "text/plain": [
       "287567"
      ]
     },
     "execution_count": 22,
     "metadata": {},
     "output_type": "execute_result"
    }
   ],
   "source": [
    "# 1234\n",
    "# 1(thousand) 2(hund) 3(ten) 4(units place)\n",
    "num = 1234\n",
    "# do not use a list\n",
    "def rev_of_num(num):\n",
    "    rev = 0\n",
    "    while num!=0:\n",
    "        rev = num%10 + rev*10   \n",
    "        num = num//10    \n",
    "    return rev\n",
    "\n",
    "rev_of_num(765782)\n",
    "\n"
   ]
  },
  {
   "cell_type": "code",
   "execution_count": 4,
   "metadata": {
    "collapsed": false
   },
   "outputs": [
    {
     "name": "stdout",
     "output_type": "stream",
     "text": [
      "123\n",
      "4\n"
     ]
    }
   ],
   "source": [
    "print(1234//10)\n",
    "print(1234%10)\n"
   ]
  },
  {
   "cell_type": "code",
   "execution_count": 14,
   "metadata": {
    "collapsed": false
   },
   "outputs": [
    {
     "data": {
      "text/plain": [
       "0"
      ]
     },
     "execution_count": 14,
     "metadata": {},
     "output_type": "execute_result"
    }
   ],
   "source": [
    "1//10"
   ]
  },
  {
   "cell_type": "code",
   "execution_count": 58,
   "metadata": {
    "collapsed": false
   },
   "outputs": [
    {
     "name": "stdout",
     "output_type": "stream",
     "text": [
      "Sublist found:  [2, 52]\n",
      "sub:  True\n"
     ]
    }
   ],
   "source": [
    "def list_comp(list1, list2):\n",
    "    if list1==list2:\n",
    "        return True\n",
    "    else:\n",
    "        return False\n",
    "\n",
    "    \n",
    "    \n",
    "x = [1,2,52,56] \n",
    "sub_list = [2, 52]\n",
    "def sub_array(x, sub_list):\n",
    "    index = 0\n",
    "    \n",
    "    while True:\n",
    "        last_index_sub_list = index + len(sub_list) \n",
    "        sub_list_we_found = x[index:last_index_sub_list] \n",
    "#         print(\"sub list we found: \", sub_list_we_found)\n",
    "        if list_comp (sub_list,sub_list_we_found):  \n",
    "            print(\"Sublist found: \", sub_list_we_found)\n",
    "            return True\n",
    "        elif len(x) == last_index_sub_list:\n",
    "            return False\n",
    "        index+=1\n",
    "        \n",
    "print(\"sub: \",sub_array(x, sub_list))"
   ]
  },
  {
   "cell_type": "code",
   "execution_count": 39,
   "metadata": {
    "collapsed": false
   },
   "outputs": [
    {
     "data": {
      "text/plain": [
       "(2, 4)"
      ]
     },
     "execution_count": 39,
     "metadata": {},
     "output_type": "execute_result"
    }
   ],
   "source": [
    "index, last_index_sub_list"
   ]
  },
  {
   "cell_type": "code",
   "execution_count": 56,
   "metadata": {
    "collapsed": false
   },
   "outputs": [
    {
     "name": "stdout",
     "output_type": "stream",
     "text": [
      "sub list we found:  [1, 2]\n",
      "sub list we found:  [2, 52]\n",
      "Sublist found\n",
      "Found\n"
     ]
    }
   ],
   "source": [
    "if len(sub_list) < len(x):\n",
    "    if sub_array(x, sub_list):\n",
    "        print(\"Found\")\n",
    "    else:\n",
    "        print(\"Not found\")\n",
    "\n",
    "elif len(sub_list) == len(x):\n",
    "    print(\"sublist is same as the parent list\")\n",
    "else:\n",
    "    print(\"Your sublist lenght is greater than your parent list\")\n",
    "    \n",
    "    \n",
    "# len(sub_list) == len(x) -> True\n"
   ]
  },
  {
   "cell_type": "code",
   "execution_count": 83,
   "metadata": {
    "collapsed": false
   },
   "outputs": [],
   "source": [
    "\"\"\"\n",
    "There is a collection of input strings and a collection of query strings. \n",
    "For each query string, determine how many times it occurs in the list of input strings.\n",
    "\n",
    "For example, given input strings = ['ab', 'ab', 'abc'] and \n",
    "query = ['ab', 'abc', 'bc'] , \n",
    "we find 2 instances of 'ab', 1 of 'abc' and 0 of 'bc'. \n",
    "\n",
    "For each query, we add an element to our return array, [2, 1, 0] .\n",
    "\"\"\"\n",
    "\n",
    "def valueCounter(value, strings):\n",
    "    \"\"\"\n",
    "    This function returns the count of the given value in side the list strings\n",
    "    \"\"\"\n",
    "\n",
    "    count = 0\n",
    "    for i in strings:\n",
    "        if value.upper() ==   i.upper():\n",
    "            count+=1\n",
    "        \n",
    "    return count\n",
    "\n",
    "\n",
    "strings = ['ab', 'aB', 'ABc', 'ab', 'BC']\n",
    "querys = ['ab', 'abc', 'bc']\n",
    "\n",
    "result = []\n",
    "\n",
    "for value in querys:\n",
    "    count_of_value = valueCounter(value, strings)\n",
    "    result.append(count_of_value)\n"
   ]
  },
  {
   "cell_type": "code",
   "execution_count": 84,
   "metadata": {
    "collapsed": false
   },
   "outputs": [
    {
     "data": {
      "text/plain": [
       "[3, 1, 1]"
      ]
     },
     "execution_count": 84,
     "metadata": {},
     "output_type": "execute_result"
    }
   ],
   "source": [
    "result"
   ]
  },
  {
   "cell_type": "code",
   "execution_count": 76,
   "metadata": {
    "collapsed": false
   },
   "outputs": [
    {
     "name": "stdout",
     "output_type": "stream",
     "text": [
      "i:  ab\n",
      "i:  ab\n",
      "i:  abc\n",
      "i:  ab\n"
     ]
    }
   ],
   "source": [
    "for i in strings:\n",
    "    print(\"i: \",i)"
   ]
  },
  {
   "cell_type": "code",
   "execution_count": 82,
   "metadata": {
    "collapsed": false
   },
   "outputs": [
    {
     "data": {
      "text/plain": [
       "'ABCASGD'"
      ]
     },
     "execution_count": 82,
     "metadata": {},
     "output_type": "execute_result"
    }
   ],
   "source": [
    "X = \"ABCasgd\"\n",
    "X.upper()"
   ]
  },
  {
   "cell_type": "code",
   "execution_count": null,
   "metadata": {
    "collapsed": true
   },
   "outputs": [],
   "source": [
    "\"\"\"\n",
    "Left rotation\n",
    "\n",
    "A left rotation operation on an array of size  shifts each of the array's \n",
    "elements 1 unit to the left. \n",
    "\n",
    "For example, if  2 left rotations are performed on array [1,2,3,4,5], then the array would become [3,4,5,1,2].\n",
    "\n",
    "Given an array of n integers and a number, d, \n",
    "perform d left rotations on the array. \n",
    "\n",
    "Then print the updated array as a single line of space-separated integers.\n",
    "\n",
    "\"\"\""
   ]
  },
  {
   "cell_type": "code",
   "execution_count": 107,
   "metadata": {
    "collapsed": false
   },
   "outputs": [],
   "source": [
    "temp = [1,2,3,4]\n",
    "rev_arr = []\n",
    "\n",
    "\n",
    "\n",
    "for i in range(1, 3):\n",
    "    index = len(temp)-i   \n",
    "    rev_arr.append(temp[index])"
   ]
  },
  {
   "cell_type": "code",
   "execution_count": 108,
   "metadata": {
    "collapsed": false
   },
   "outputs": [
    {
     "data": {
      "text/plain": [
       "[4, 3]"
      ]
     },
     "execution_count": 108,
     "metadata": {},
     "output_type": "execute_result"
    }
   ],
   "source": [
    "rev_arr"
   ]
  },
  {
   "cell_type": "code",
   "execution_count": 113,
   "metadata": {
    "collapsed": false
   },
   "outputs": [],
   "source": [
    "temp = [1, 2, 5,6]"
   ]
  },
  {
   "cell_type": "code",
   "execution_count": 114,
   "metadata": {
    "collapsed": false
   },
   "outputs": [],
   "source": [
    "firstElement = temp.pop(0)  "
   ]
  },
  {
   "cell_type": "code",
   "execution_count": 115,
   "metadata": {
    "collapsed": false
   },
   "outputs": [
    {
     "data": {
      "text/plain": [
       "[2, 5, 6]"
      ]
     },
     "execution_count": 115,
     "metadata": {},
     "output_type": "execute_result"
    }
   ],
   "source": [
    "temp"
   ]
  },
  {
   "cell_type": "code",
   "execution_count": 116,
   "metadata": {
    "collapsed": true
   },
   "outputs": [],
   "source": [
    "temp.append(firstElement)"
   ]
  },
  {
   "cell_type": "code",
   "execution_count": 117,
   "metadata": {
    "collapsed": false
   },
   "outputs": [
    {
     "data": {
      "text/plain": [
       "[2, 5, 6, 1]"
      ]
     },
     "execution_count": 117,
     "metadata": {},
     "output_type": "execute_result"
    }
   ],
   "source": [
    "temp"
   ]
  },
  {
   "cell_type": "code",
   "execution_count": 118,
   "metadata": {
    "collapsed": true
   },
   "outputs": [],
   "source": [
    "firstElement = temp.pop(0)  \n",
    "temp.append(firstElement)"
   ]
  },
  {
   "cell_type": "code",
   "execution_count": 119,
   "metadata": {
    "collapsed": false
   },
   "outputs": [
    {
     "data": {
      "text/plain": [
       "[5, 6, 1, 2]"
      ]
     },
     "execution_count": 119,
     "metadata": {},
     "output_type": "execute_result"
    }
   ],
   "source": [
    "temp"
   ]
  },
  {
   "cell_type": "code",
   "execution_count": 122,
   "metadata": {
    "collapsed": false
   },
   "outputs": [
    {
     "name": "stdout",
     "output_type": "stream",
     "text": [
      "Result:  [3, 4, 1, 2]\n"
     ]
    }
   ],
   "source": [
    "def leftRotation(d, temp):\n",
    "    for i in range(d):\n",
    "        firstElement = temp.pop(0)\n",
    "        temp.append(firstElement)\n",
    "    \n",
    "    return temp\n",
    "    \n",
    "d = 2\n",
    "temp = [1,2,3,4]\n",
    "leftRotationResult = leftRotation(d, temp)\n",
    "print(\"Result: \", leftRotationResult)"
   ]
  },
  {
   "cell_type": "code",
   "execution_count": 128,
   "metadata": {
    "collapsed": false
   },
   "outputs": [
    {
     "name": "stdout",
     "output_type": "stream",
     "text": [
      "1\n",
      "2\n",
      "3\n",
      "4\n"
     ]
    }
   ],
   "source": [
    "# factorial of a number\n",
    "# 5! = 5*4*3*2*1 = 120\n",
    "\n",
    "# generator\n",
    "\n",
    "\n",
    "# A generator function that yields 1 for the first time,\n",
    "# 2 second time and 3 third time\n",
    "def simpleGeneratorFun():\n",
    "    yield 1\n",
    "    yield 2\n",
    "    yield 3\n",
    "    yield 4\n",
    "    yield 5\n",
    "    \n",
    "x = simpleGeneratorFun()\n",
    "for i_yield in simpleGeneratorFun():\n",
    "    print(i_yield)"
   ]
  },
  {
   "cell_type": "code",
   "execution_count": 130,
   "metadata": {
    "collapsed": false
   },
   "outputs": [],
   "source": [
    "def nextSquare():\n",
    "    i = 1\n",
    "    while True:\n",
    "        yield i*i # 2*2\n",
    "        i += 1"
   ]
  },
  {
   "cell_type": "code",
   "execution_count": 133,
   "metadata": {
    "collapsed": false
   },
   "outputs": [
    {
     "name": "stdout",
     "output_type": "stream",
     "text": [
      "1\n",
      "4\n",
      "9\n",
      "16\n",
      "25\n",
      "36\n",
      "49\n",
      "64\n",
      "81\n",
      "100\n",
      "121\n",
      "144\n",
      "169\n",
      "196\n",
      "225\n",
      "256\n",
      "289\n",
      "324\n",
      "361\n",
      "400\n",
      "441\n",
      "484\n",
      "529\n",
      "576\n",
      "625\n",
      "676\n",
      "729\n",
      "784\n",
      "841\n",
      "900\n",
      "961\n"
     ]
    }
   ],
   "source": [
    "n = 1000\n",
    "for i_yeild in nextSquare():\n",
    "    if i_yeild > n:\n",
    "        break\n",
    "    print(i_yeild)"
   ]
  },
  {
   "cell_type": "code",
   "execution_count": null,
   "metadata": {
    "collapsed": true
   },
   "outputs": [],
   "source": []
  }
 ],
 "metadata": {
  "anaconda-cloud": {},
  "kernelspec": {
   "display_name": "Python [Root]",
   "language": "python",
   "name": "Python [Root]"
  },
  "language_info": {
   "codemirror_mode": {
    "name": "ipython",
    "version": 3
   },
   "file_extension": ".py",
   "mimetype": "text/x-python",
   "name": "python",
   "nbconvert_exporter": "python",
   "pygments_lexer": "ipython3",
   "version": "3.5.6"
  }
 },
 "nbformat": 4,
 "nbformat_minor": 0
}
