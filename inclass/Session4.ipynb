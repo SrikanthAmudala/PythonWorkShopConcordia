{
 "cells": [
  {
   "cell_type": "code",
   "execution_count": 60,
   "metadata": {
    "collapsed": true
   },
   "outputs": [],
   "source": [
    "# EMPLOYEE\n",
    "# name\n",
    "# email id\n",
    "# qualification\n",
    "# salary\n",
    "# emp_id -> given by the company\n",
    "\n",
    "class Employee:\n",
    "    num_of_emps = 0\n",
    "    def __init__(self, firstname=None, lastname=None, qua1=None, sal1=None):   # constructor\n",
    "        # Generate \n",
    "        self.firstname = firstname\n",
    "        self.lastname = lastname        \n",
    "        self.emp_email_id = None\n",
    "        self.qualification = qua1\n",
    "        self.salary = sal1\n",
    "        Employee.num_of_emps +=1\n",
    "        \n",
    "    def generate_email_id(self):\n",
    "        # firstname.lastname@comp.io\n",
    "        if self.firstname is not None and self.lastname is not None:\n",
    "            self.emp_email_id = self.firstname +\".\" +self.lastname + \"@comp.io\"\n",
    "            return True\n",
    "        else:\n",
    "            print(\"Emp has not yet been assigned a name, please register the emp first before generating an email.\")\n",
    "            return False"
   ]
  },
  {
   "cell_type": "code",
   "execution_count": 61,
   "metadata": {
    "collapsed": false
   },
   "outputs": [],
   "source": [
    "class Developer(Employee):\n",
    "    def __init__(self, firstname, lastname, qua1, sal1, expertise=None):\n",
    "        super().__init__(firstname, lastname, qua1, sal1)\n",
    "        self.expertise = expertise\n",
    "        "
   ]
  },
  {
   "cell_type": "code",
   "execution_count": 110,
   "metadata": {
    "collapsed": true
   },
   "outputs": [],
   "source": [
    "class Manager(Employee):\n",
    "    def __init__(self, firstname, lastname, qua1, sal1, peopleAssigned = None):\n",
    "        super().__init__(firstname, lastname, qua1, sal1)\n",
    "        if peopleAssigned is None:\n",
    "            self.peopleAssigned = []\n",
    "        else:\n",
    "            self.peopleAssigned = peopleAssigned\n",
    "        \n",
    "    def add_people(self, emp):\n",
    "        if emp not in self.peopleAssigned:\n",
    "            self.peopleAssigned.append(emp)\n",
    "    def list_all_emp_names(self):\n",
    "        for devobjs in self.peopleAssigned:\n",
    "            print(\"Manager: \",self.firstname ,\"Name of ppl: \", devobjs.firstname)\n",
    "    "
   ]
  },
  {
   "cell_type": "code",
   "execution_count": 115,
   "metadata": {
    "collapsed": true
   },
   "outputs": [],
   "source": [
    "class Xyz(Employee):\n",
    "    pass"
   ]
  },
  {
   "cell_type": "code",
   "execution_count": 119,
   "metadata": {
    "collapsed": false
   },
   "outputs": [],
   "source": []
  },
  {
   "cell_type": "code",
   "execution_count": null,
   "metadata": {
    "collapsed": true
   },
   "outputs": [],
   "source": []
  },
  {
   "cell_type": "code",
   "execution_count": 111,
   "metadata": {
    "collapsed": true
   },
   "outputs": [],
   "source": [
    "mng1 = Manager('Safrin', 'sf', 'CIISE', 232545)"
   ]
  },
  {
   "cell_type": "code",
   "execution_count": 113,
   "metadata": {
    "collapsed": false
   },
   "outputs": [],
   "source": [
    "mng1.add_people(dev2)"
   ]
  },
  {
   "cell_type": "code",
   "execution_count": 114,
   "metadata": {
    "collapsed": false
   },
   "outputs": [
    {
     "name": "stdout",
     "output_type": "stream",
     "text": [
      "Emps assigned to manager:  [<__main__.Developer object at 0x10a92ac88>, <__main__.Developer object at 0x10a96ab00>]\n",
      "Manager:  Safrin Name of ppl:  Rohit\n",
      "Manager:  Safrin Name of ppl:  sabeeya\n"
     ]
    }
   ],
   "source": [
    "print(\"Emps assigned to manager: \",mng1.peopleAssigned)\n",
    "mng1.list_all_emp_names()\n"
   ]
  },
  {
   "cell_type": "code",
   "execution_count": 95,
   "metadata": {
    "collapsed": true
   },
   "outputs": [],
   "source": [
    "list_of_dev_assigned_mng1 = mng1.peopleAssigned # list of all the ppl assigned to the manager"
   ]
  },
  {
   "cell_type": "code",
   "execution_count": 103,
   "metadata": {
    "collapsed": false
   },
   "outputs": [
    {
     "name": "stdout",
     "output_type": "stream",
     "text": [
      "Name:  Rohit Email:  Rohit.SE@comp.io\n",
      "Name:  sabeeya Email:  sabeeya.SE@comp.io\n"
     ]
    }
   ],
   "source": [
    "for people_objs in list_of_dev_assigned_mng1:\n",
    "    print(\"Name: \",people_objs.firstname,'Email: ' ,people_objs.emp_email_id)\n"
   ]
  },
  {
   "cell_type": "code",
   "execution_count": 92,
   "metadata": {
    "collapsed": false
   },
   "outputs": [],
   "source": [
    "# Dev:\n",
    "# first name, lastname, q, sal, exp\n",
    "\n",
    "dev2 = Developer(\"sabeeya\", \"SE\", \"CSE\", 1234315, \"Python\")"
   ]
  },
  {
   "cell_type": "code",
   "execution_count": 99,
   "metadata": {
    "collapsed": false
   },
   "outputs": [
    {
     "data": {
      "text/plain": [
       "True"
      ]
     },
     "execution_count": 99,
     "metadata": {},
     "output_type": "execute_result"
    }
   ],
   "source": [
    "dev2.generate_email_id()"
   ]
  },
  {
   "cell_type": "code",
   "execution_count": 68,
   "metadata": {
    "collapsed": false
   },
   "outputs": [
    {
     "data": {
      "text/plain": [
       "'Rohit.SE@comp.io'"
      ]
     },
     "execution_count": 68,
     "metadata": {},
     "output_type": "execute_result"
    }
   ],
   "source": [
    "dev1.emp_email_id"
   ]
  },
  {
   "cell_type": "code",
   "execution_count": 49,
   "metadata": {
    "collapsed": false
   },
   "outputs": [
    {
     "name": "stdout",
     "output_type": "stream",
     "text": [
      "created\n"
     ]
    }
   ],
   "source": [
    "if emp1.generate_email_id():\n",
    "    print(\"created\")\n",
    "    # save them into a sql db\n",
    "else:\n",
    "    print(message)"
   ]
  },
  {
   "cell_type": "code",
   "execution_count": 50,
   "metadata": {
    "collapsed": false
   },
   "outputs": [
    {
     "data": {
      "text/plain": [
       "'Srikanth.Sunny@comp.io'"
      ]
     },
     "execution_count": 50,
     "metadata": {},
     "output_type": "execute_result"
    }
   ],
   "source": [
    "emp1.emp_email_id"
   ]
  },
  {
   "cell_type": "code",
   "execution_count": 51,
   "metadata": {
    "collapsed": false
   },
   "outputs": [
    {
     "data": {
      "text/plain": [
       "1"
      ]
     },
     "execution_count": 51,
     "metadata": {},
     "output_type": "execute_result"
    }
   ],
   "source": [
    "Employee.num_of_emps"
   ]
  },
  {
   "cell_type": "code",
   "execution_count": 52,
   "metadata": {
    "collapsed": true
   },
   "outputs": [],
   "source": [
    "emp2 = Employee()"
   ]
  },
  {
   "cell_type": "code",
   "execution_count": 53,
   "metadata": {
    "collapsed": false
   },
   "outputs": [
    {
     "data": {
      "text/plain": [
       "2"
      ]
     },
     "execution_count": 53,
     "metadata": {},
     "output_type": "execute_result"
    }
   ],
   "source": [
    "Employee.num_of_emps"
   ]
  },
  {
   "cell_type": "code",
   "execution_count": 54,
   "metadata": {
    "collapsed": false
   },
   "outputs": [
    {
     "name": "stdout",
     "output_type": "stream",
     "text": [
      "Help on class Employee in module __main__:\n",
      "\n",
      "class Employee(builtins.object)\n",
      " |  Methods defined here:\n",
      " |  \n",
      " |  __init__(self, firstname=None, lastname=None, qua1=None, sal1=None)\n",
      " |      Initialize self.  See help(type(self)) for accurate signature.\n",
      " |  \n",
      " |  generate_email_id(self)\n",
      " |  \n",
      " |  ----------------------------------------------------------------------\n",
      " |  Data descriptors defined here:\n",
      " |  \n",
      " |  __dict__\n",
      " |      dictionary for instance variables (if defined)\n",
      " |  \n",
      " |  __weakref__\n",
      " |      list of weak references to the object (if defined)\n",
      " |  \n",
      " |  ----------------------------------------------------------------------\n",
      " |  Data and other attributes defined here:\n",
      " |  \n",
      " |  num_of_emps = 2\n",
      "\n"
     ]
    }
   ],
   "source": [
    "help(Employee)"
   ]
  },
  {
   "cell_type": "code",
   "execution_count": 1,
   "metadata": {
    "collapsed": true
   },
   "outputs": [],
   "source": []
  },
  {
   "cell_type": "code",
   "execution_count": 2,
   "metadata": {
    "collapsed": true
   },
   "outputs": [],
   "source": []
  },
  {
   "cell_type": "code",
   "execution_count": null,
   "metadata": {
    "collapsed": true
   },
   "outputs": [],
   "source": []
  }
 ],
 "metadata": {
  "kernelspec": {
   "display_name": "Python [Root]",
   "language": "python",
   "name": "Python [Root]"
  },
  "language_info": {
   "codemirror_mode": {
    "name": "ipython",
    "version": 3
   },
   "file_extension": ".py",
   "mimetype": "text/x-python",
   "name": "python",
   "nbconvert_exporter": "python",
   "pygments_lexer": "ipython3",
   "version": "3.5.6"
  }
 },
 "nbformat": 4,
 "nbformat_minor": 0
}
