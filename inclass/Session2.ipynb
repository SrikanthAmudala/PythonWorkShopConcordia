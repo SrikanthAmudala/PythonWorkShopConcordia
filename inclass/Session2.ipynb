{
 "cells": [
  {
   "cell_type": "markdown",
   "metadata": {},
   "source": [
    "# Session 2\n",
    "\n",
    "1.  Dict\n",
    "2. Control statements (if, for, while)\n",
    "3. Iterations(Arrays, Strings)\n",
    "4. Nestes loops(if, for, while)\n",
    "5. Functions\n",
    "6. Generator function\n",
    "7. Assignments"
   ]
  },
  {
   "cell_type": "code",
   "execution_count": 1,
   "metadata": {
    "collapsed": true
   },
   "outputs": [],
   "source": [
    "arry_x = []\n",
    "tuple_x = ()\n",
    "dict_x = {\n",
    "    \"key\":[1,2,4],\n",
    "          \"key1\":1,\n",
    "          \"key2\":\"value3\"\n",
    "         }\n",
    "\n",
    "\n",
    "con_university = []\n",
    "\n",
    "student_list_names= ['negar', 'ayushi', 'anu', 'sunny']\n",
    "student_id =        [1001, 1002, 1003, 1004]\n",
    "student_department = ['ece', 'cs', 'it', 'mba']\n",
    "\n",
    "emp_name = ['xyz', 'a', 'b', 'c']\n",
    "emp_id = [1, 3, 4, 5]\n",
    "\n",
    "emp_id[0]\n",
    "\n",
    "\n"
   ]
  },
  {
   "cell_type": "code",
   "execution_count": 2,
   "metadata": {
    "collapsed": false
   },
   "outputs": [
    {
     "data": {
      "text/plain": [
       "{'key': 'value1', 'key1': 'value2', 'key2': 'value3'}"
      ]
     },
     "execution_count": 2,
     "metadata": {},
     "output_type": "execute_result"
    }
   ],
   "source": [
    "dict_x"
   ]
  },
  {
   "cell_type": "code",
   "execution_count": 6,
   "metadata": {
    "collapsed": false
   },
   "outputs": [
    {
     "name": "stdout",
     "output_type": "stream",
     "text": [
      "returns a key list:  dict_keys(['key1', 'key2', 'key'])\n",
      "value for key2:  value3\n"
     ]
    }
   ],
   "source": [
    "# functions of dict\n",
    "print(\"returns a key list: \",dict_x.keys())\n",
    "print(\"value for key2: \", dict_x.get(\"key2\"))"
   ]
  },
  {
   "cell_type": "code",
   "execution_count": 8,
   "metadata": {
    "collapsed": false
   },
   "outputs": [
    {
     "data": {
      "text/plain": [
       "{'dict_x': {'key': {'key_inside': 'valueinside'}}, 'sample_list': [1, 2, 4]}"
      ]
     },
     "execution_count": 8,
     "metadata": {},
     "output_type": "execute_result"
    }
   ],
   "source": [
    "dict_y = {\n",
    "    \"sample_list\":[1,2,4],\n",
    "          \"dict_x\": {\"key\":{\"key_inside\":\"valueinside\"}}\n",
    "         }\n",
    "\n",
    "\n",
    "dict_y"
   ]
  },
  {
   "cell_type": "code",
   "execution_count": 10,
   "metadata": {
    "collapsed": false
   },
   "outputs": [],
   "source": [
    "university = {\n",
    "\"people\":{\n",
    "    \"students\":{ \"name\" : student_list_names,\n",
    "                \"ids\" : student_id,\n",
    "                \"department\":student_department\n",
    "               },\n",
    "    \"emp\":{\n",
    "            \"name\":emp_name,\n",
    "            \"ids\":emp_id,\n",
    "            \"department\": student_department\n",
    "        }\n",
    "    }\n",
    "}"
   ]
  },
  {
   "cell_type": "code",
   "execution_count": 11,
   "metadata": {
    "collapsed": false
   },
   "outputs": [
    {
     "data": {
      "text/plain": [
       "{'people': {'emp': {'department': ['ece', 'cs', 'it', 'mba'],\n",
       "   'ids': [1, 3, 4, 5],\n",
       "   'name': ['xyz', 'a', 'b', 'c']},\n",
       "  'students': {'department': ['ece', 'cs', 'it', 'mba'],\n",
       "   'ids': [1001, 1002, 1003, 1004],\n",
       "   'name': ['negar', 'ayushi', 'anu', 'sunny']}}}"
      ]
     },
     "execution_count": 11,
     "metadata": {},
     "output_type": "execute_result"
    }
   ],
   "source": [
    "university"
   ]
  },
  {
   "cell_type": "code",
   "execution_count": 16,
   "metadata": {
    "collapsed": false
   },
   "outputs": [
    {
     "data": {
      "text/plain": [
       "['xyz', 'a', 'b', 'c']"
      ]
     },
     "execution_count": 16,
     "metadata": {},
     "output_type": "execute_result"
    }
   ],
   "source": [
    "university.get(\"people\").get(\"emp\").get(\"name\")"
   ]
  },
  {
   "cell_type": "code",
   "execution_count": 48,
   "metadata": {
    "collapsed": true
   },
   "outputs": [],
   "source": [
    "montreal_uni = {\n",
    "\t'mcgill': {\n",
    "\t\t'emp': {\n",
    "\t\t\t'department': ['ece', 'cs', 'it', 'mba'],\n",
    "\t\t\t'ids': [1, 3, 4, 5],\n",
    "\t\t\t'name': ['xyz', 'a', 'b', 'c']\n",
    "\t\t},\n",
    "\t\t'students': {\n",
    "\t\t\t'department': ['ece', 'cs', 'it', 'mba'],\n",
    "\t\t\t'ids': [1001, 1002, 1003, 1004],\n",
    "\t\t\t'name': ['negar', 'ayushi', 'anu', 'sunny']\n",
    "\t\t}\n",
    "\t},\n",
    "\t  'concordia': {\n",
    "\t\t'emp': {\n",
    "\t\t\t'department': ['ece', 'cs', 'it', 'mba'],\n",
    "\t\t\t'ids': [1, 3, 4, 5],\n",
    "\t\t\t'name': ['xyz', 'a', 'b', 'c']\n",
    "\t\t},\n",
    "\t\t'students': {\n",
    "\t\t\t'department': ['ece', 'it', 'it', 'mba'],\n",
    "\t\t\t'ids': [1001, 1002, 1003, 1004],\n",
    "\t\t\t'name': ['negar', 'ayushi', 'anu', 'sunny'],\n",
    "            \n",
    "        },\n",
    "        \n",
    "        'department':{\n",
    "             \"name\":[\"ece\", \"cs\", \"mba\", \"cisee\", \"it\"]   \n",
    "            }\n",
    "\t\t\n",
    "\t}\n",
    "}"
   ]
  },
  {
   "cell_type": "code",
   "execution_count": 19,
   "metadata": {
    "collapsed": false
   },
   "outputs": [],
   "source": [
    "uni_list = montreal_uni.keys()"
   ]
  },
  {
   "cell_type": "code",
   "execution_count": 22,
   "metadata": {
    "collapsed": false
   },
   "outputs": [
    {
     "data": {
      "text/plain": [
       "dict_keys(['mcgill', 'concordia'])"
      ]
     },
     "execution_count": 22,
     "metadata": {},
     "output_type": "execute_result"
    }
   ],
   "source": [
    "uni_list"
   ]
  },
  {
   "cell_type": "code",
   "execution_count": 24,
   "metadata": {
    "collapsed": false
   },
   "outputs": [
    {
     "data": {
      "text/plain": [
       "[1, 3, 4, 5]"
      ]
     },
     "execution_count": 24,
     "metadata": {},
     "output_type": "execute_result"
    }
   ],
   "source": [
    "montreal_uni.get(\"mcgill\").get(\"emp\").get(\"ids\")"
   ]
  },
  {
   "cell_type": "code",
   "execution_count": 47,
   "metadata": {
    "collapsed": false
   },
   "outputs": [
    {
     "data": {
      "text/plain": [
       "4"
      ]
     },
     "execution_count": 47,
     "metadata": {},
     "output_type": "execute_result"
    }
   ],
   "source": [
    "len(montreal_uni.get(\"concordia\").get(\"department\").get(\"name\"))"
   ]
  },
  {
   "cell_type": "code",
   "execution_count": 72,
   "metadata": {
    "collapsed": false
   },
   "outputs": [],
   "source": [
    "student_enrolled_dep = set(montreal_uni.get(\"concordia\").get(\"students\").get(\"department\"))"
   ]
  },
  {
   "cell_type": "code",
   "execution_count": 74,
   "metadata": {
    "collapsed": false
   },
   "outputs": [
    {
     "ename": "AttributeError",
     "evalue": "'list' object has no attribute 'set'",
     "output_type": "error",
     "traceback": [
      "\u001b[0;31m---------------------------------------------------------------------------\u001b[0m",
      "\u001b[0;31mAttributeError\u001b[0m                            Traceback (most recent call last)",
      "\u001b[0;32m<ipython-input-74-87e1c74de08d>\u001b[0m in \u001b[0;36m<module>\u001b[0;34m()\u001b[0m\n\u001b[0;32m----> 1\u001b[0;31m \u001b[0mstudent_enrolled_dep\u001b[0m\u001b[0;34m.\u001b[0m\u001b[0mset\u001b[0m\u001b[0;34m(\u001b[0m\u001b[0;34m)\u001b[0m\u001b[0;34m\u001b[0m\u001b[0m\n\u001b[0m",
      "\u001b[0;31mAttributeError\u001b[0m: 'list' object has no attribute 'set'"
     ]
    }
   ],
   "source": [
    "set(student_enrolled_dep)"
   ]
  },
  {
   "cell_type": "code",
   "execution_count": 54,
   "metadata": {
    "collapsed": false
   },
   "outputs": [],
   "source": [
    "uniq_student_enrolled_dep = set(student_enrolled_dep)"
   ]
  },
  {
   "cell_type": "code",
   "execution_count": 56,
   "metadata": {
    "collapsed": false
   },
   "outputs": [
    {
     "data": {
      "text/plain": [
       "3"
      ]
     },
     "execution_count": 56,
     "metadata": {},
     "output_type": "execute_result"
    }
   ],
   "source": [
    "len(uniq_student_enrolled_dep)"
   ]
  },
  {
   "cell_type": "code",
   "execution_count": 60,
   "metadata": {
    "collapsed": false
   },
   "outputs": [
    {
     "data": {
      "text/plain": [
       "set"
      ]
     },
     "execution_count": 60,
     "metadata": {},
     "output_type": "execute_result"
    }
   ],
   "source": [
    "type(uniq_student_enrolled_dep)"
   ]
  },
  {
   "cell_type": "code",
   "execution_count": 61,
   "metadata": {
    "collapsed": true
   },
   "outputs": [],
   "source": [
    "x_set = set()\n",
    "x_dict = dict()"
   ]
  },
  {
   "cell_type": "code",
   "execution_count": 62,
   "metadata": {
    "collapsed": false
   },
   "outputs": [
    {
     "data": {
      "text/plain": [
       "set()"
      ]
     },
     "execution_count": 62,
     "metadata": {},
     "output_type": "execute_result"
    }
   ],
   "source": [
    "x_set"
   ]
  },
  {
   "cell_type": "code",
   "execution_count": 63,
   "metadata": {
    "collapsed": false
   },
   "outputs": [
    {
     "data": {
      "text/plain": [
       "{}"
      ]
     },
     "execution_count": 63,
     "metadata": {},
     "output_type": "execute_result"
    }
   ],
   "source": [
    "x_dict"
   ]
  },
  {
   "cell_type": "code",
   "execution_count": 64,
   "metadata": {
    "collapsed": true
   },
   "outputs": [],
   "source": [
    "x = {\"deprt\":  }"
   ]
  },
  {
   "cell_type": "code",
   "execution_count": 65,
   "metadata": {
    "collapsed": false
   },
   "outputs": [
    {
     "data": {
      "text/plain": [
       "<function dict.keys>"
      ]
     },
     "execution_count": 65,
     "metadata": {},
     "output_type": "execute_result"
    }
   ],
   "source": [
    "x.keys"
   ]
  },
  {
   "cell_type": "code",
   "execution_count": 66,
   "metadata": {
    "collapsed": false
   },
   "outputs": [
    {
     "data": {
      "text/plain": [
       "'s'"
      ]
     },
     "execution_count": 66,
     "metadata": {},
     "output_type": "execute_result"
    }
   ],
   "source": [
    "x.get()"
   ]
  },
  {
   "cell_type": "code",
   "execution_count": null,
   "metadata": {
    "collapsed": true
   },
   "outputs": [],
   "source": []
  },
  {
   "cell_type": "code",
   "execution_count": 71,
   "metadata": {
    "collapsed": false
   },
   "outputs": [
    {
     "ename": "SyntaxError",
     "evalue": "invalid syntax (<ipython-input-71-179ca4a58a7b>, line 2)",
     "output_type": "error",
     "traceback": [
      "\u001b[0;36m  File \u001b[0;32m\"<ipython-input-71-179ca4a58a7b>\"\u001b[0;36m, line \u001b[0;32m2\u001b[0m\n\u001b[0;31m    \"uni\"}\u001b[0m\n\u001b[0m         ^\u001b[0m\n\u001b[0;31mSyntaxError\u001b[0m\u001b[0;31m:\u001b[0m invalid syntax\n"
     ]
    }
   ],
   "source": [
    "{\"uni\":{},\n",
    "\"uni\":[]}"
   ]
  },
  {
   "cell_type": "code",
   "execution_count": 75,
   "metadata": {
    "collapsed": true
   },
   "outputs": [],
   "source": [
    "x_list = [1,3,3,4,5,6,3,11,35,2,36,367,373]"
   ]
  },
  {
   "cell_type": "code",
   "execution_count": 76,
   "metadata": {
    "collapsed": false
   },
   "outputs": [
    {
     "data": {
      "text/plain": [
       "13"
      ]
     },
     "execution_count": 76,
     "metadata": {},
     "output_type": "execute_result"
    }
   ],
   "source": [
    "len(x_list)"
   ]
  },
  {
   "cell_type": "code",
   "execution_count": 77,
   "metadata": {
    "collapsed": true
   },
   "outputs": [],
   "source": [
    "x_set = set()"
   ]
  },
  {
   "cell_type": "code",
   "execution_count": 82,
   "metadata": {
    "collapsed": true
   },
   "outputs": [],
   "source": [
    "x_list.append(33)"
   ]
  },
  {
   "cell_type": "code",
   "execution_count": 83,
   "metadata": {
    "collapsed": false
   },
   "outputs": [
    {
     "data": {
      "text/plain": [
       "[1, 3, 3, 4, 5, 6, 3, 11, 35, 2, 36, 367, 373, 33, 33, 33]"
      ]
     },
     "execution_count": 83,
     "metadata": {},
     "output_type": "execute_result"
    }
   ],
   "source": [
    "set(x_list)"
   ]
  },
  {
   "cell_type": "code",
   "execution_count": 93,
   "metadata": {
    "collapsed": false
   },
   "outputs": [],
   "source": [
    "x_set.add(0)"
   ]
  },
  {
   "cell_type": "code",
   "execution_count": 94,
   "metadata": {
    "collapsed": false
   },
   "outputs": [
    {
     "data": {
      "text/plain": [
       "{0, 1, 2}"
      ]
     },
     "execution_count": 94,
     "metadata": {},
     "output_type": "execute_result"
    }
   ],
   "source": [
    "x_set"
   ]
  },
  {
   "cell_type": "code",
   "execution_count": 96,
   "metadata": {
    "collapsed": false
   },
   "outputs": [
    {
     "data": {
      "text/plain": [
       "12"
      ]
     },
     "execution_count": 96,
     "metadata": {},
     "output_type": "execute_result"
    }
   ],
   "source": [
    "len(set(x_list))"
   ]
  },
  {
   "cell_type": "code",
   "execution_count": 97,
   "metadata": {
    "collapsed": false
   },
   "outputs": [
    {
     "data": {
      "text/plain": [
       "16"
      ]
     },
     "execution_count": 97,
     "metadata": {},
     "output_type": "execute_result"
    }
   ],
   "source": [
    "len(x_list)"
   ]
  },
  {
   "cell_type": "code",
   "execution_count": 102,
   "metadata": {
    "collapsed": false
   },
   "outputs": [
    {
     "data": {
      "text/plain": [
       "1"
      ]
     },
     "execution_count": 102,
     "metadata": {},
     "output_type": "execute_result"
    }
   ],
   "source": [
    "password = \"1\"\n",
    "# your password should not exceed 5 char and it should contain a min of 3 chars\n",
    "\n",
    "len(password)"
   ]
  },
  {
   "cell_type": "code",
   "execution_count": 111,
   "metadata": {
    "collapsed": false
   },
   "outputs": [
    {
     "name": "stdout",
     "output_type": "stream",
     "text": [
      "inside\n",
      "password too short\n",
      "outside\n"
     ]
    }
   ],
   "source": [
    "print(\"inside\")\n",
    "\n",
    "if len(password)<=5 and len(password) >=3 :\n",
    "    print(\"Good password\")\n",
    "elif len(password) < 3:\n",
    "    print(\"password too short\")\n",
    "elif len(password) >5:\n",
    "    print(\"Too long\")\n",
    "else:\n",
    "    print(\"Error\")\n",
    "    \n",
    "print(\"outside\")"
   ]
  },
  {
   "cell_type": "code",
   "execution_count": null,
   "metadata": {
    "collapsed": true
   },
   "outputs": [],
   "source": [
    "and gate\n",
    "True* True  True\n",
    "1* falas. False\n",
    "0. 1. 0\n",
    "0. 0. 0\n",
    "\n",
    "or gate\n",
    "1 0. 1\n",
    "1 1  1\n",
    "\n",
    "0 0  0 \n",
    "\n"
   ]
  }
 ],
 "metadata": {
  "kernelspec": {
   "display_name": "Python [Root]",
   "language": "python",
   "name": "Python [Root]"
  },
  "language_info": {
   "codemirror_mode": {
    "name": "ipython",
    "version": 3
   },
   "file_extension": ".py",
   "mimetype": "text/x-python",
   "name": "python",
   "nbconvert_exporter": "python",
   "pygments_lexer": "ipython3",
   "version": "3.5.6"
  }
 },
 "nbformat": 4,
 "nbformat_minor": 0
}
