{
 "cells": [
  {
   "cell_type": "code",
   "execution_count": null,
   "metadata": {
    "collapsed": true
   },
   "outputs": [],
   "source": [
    "# Private variables\n",
    "# setter and getter functions\n",
    "# Multi class inheritence\n",
    "# Polymorphism (obj pass, operator over loading, method overloading)\n",
    "# Assignments discussion"
   ]
  },
  {
   "cell_type": "markdown",
   "metadata": {},
   "source": [
    "## Private, method overloading, multi inheritance examples"
   ]
  },
  {
   "cell_type": "code",
   "execution_count": 64,
   "metadata": {
    "collapsed": true
   },
   "outputs": [],
   "source": [
    "class X:\n",
    "#     def __init__(self, a, b, sal):\n",
    "#         self._pay = sal\n",
    "#         self._abc = a\n",
    "#         self._b = b\n",
    "#         self.c = None\n",
    "#     def set_a(self, a):\n",
    "#         # setter\n",
    "#         self._abc = a\n",
    "#     def get_a(self):\n",
    "#         # getter\n",
    "#         return self._abc\n",
    "#     def sum_a_b(self, i, j):\n",
    "#         return i+j\n",
    "    \n",
    "#     def set_sal(self, sal):\n",
    "#         self._pay = sal\n",
    "    def get_sal(self):\n",
    "        return 1\n",
    "    def retun_a(self):\n",
    "        return 1"
   ]
  },
  {
   "cell_type": "code",
   "execution_count": 77,
   "metadata": {
    "collapsed": false
   },
   "outputs": [],
   "source": [
    "class Y:\n",
    "    def __init__(self, a):\n",
    "        self.a = a\n",
    "    def retun_a(self):\n",
    "        return self.a"
   ]
  },
  {
   "cell_type": "code",
   "execution_count": 81,
   "metadata": {
    "collapsed": false
   },
   "outputs": [],
   "source": [
    "class Z(X,Y):\n",
    "    def __init__(self, b):\n",
    "        self.b = b\n",
    "    def retun_b(self):\n",
    "        return 1\n"
   ]
  },
  {
   "cell_type": "code",
   "execution_count": 82,
   "metadata": {
    "collapsed": false
   },
   "outputs": [],
   "source": [
    "x = 1\n",
    "x = 2\n",
    "\n",
    "def test234():\n",
    "    return 1\n",
    "\n",
    "def test234():\n",
    "    return 2\n",
    "\n",
    "test234()\n",
    "\n",
    "\n",
    "z = Z(2)\n",
    "z.retun_a()"
   ]
  },
  {
   "cell_type": "code",
   "execution_count": 69,
   "metadata": {
    "collapsed": false
   },
   "outputs": [
    {
     "name": "stdout",
     "output_type": "stream",
     "text": [
      "Help on class Z in module __main__:\n",
      "\n",
      "class Z(X, Y)\n",
      " |  Method resolution order:\n",
      " |      Z\n",
      " |      X\n",
      " |      Y\n",
      " |      builtins.object\n",
      " |  \n",
      " |  Methods defined here:\n",
      " |  \n",
      " |  retun_b(self)\n",
      " |  \n",
      " |  ----------------------------------------------------------------------\n",
      " |  Methods inherited from X:\n",
      " |  \n",
      " |  get_sal(self)\n",
      " |  \n",
      " |  ----------------------------------------------------------------------\n",
      " |  Data descriptors inherited from X:\n",
      " |  \n",
      " |  __dict__\n",
      " |      dictionary for instance variables (if defined)\n",
      " |  \n",
      " |  __weakref__\n",
      " |      list of weak references to the object (if defined)\n",
      " |  \n",
      " |  ----------------------------------------------------------------------\n",
      " |  Methods inherited from Y:\n",
      " |  \n",
      " |  __init__(self, a)\n",
      " |      Initialize self.  See help(type(self)) for accurate signature.\n",
      " |  \n",
      " |  retun_a(self)\n",
      "\n"
     ]
    }
   ],
   "source": [
    "help(Z)"
   ]
  },
  {
   "cell_type": "code",
   "execution_count": 44,
   "metadata": {
    "collapsed": false
   },
   "outputs": [
    {
     "data": {
      "text/plain": [
       "100"
      ]
     },
     "execution_count": 44,
     "metadata": {},
     "output_type": "execute_result"
    }
   ],
   "source": [
    "objX.get_sal()"
   ]
  },
  {
   "cell_type": "code",
   "execution_count": 33,
   "metadata": {
    "collapsed": false
   },
   "outputs": [
    {
     "data": {
      "text/plain": [
       "4"
      ]
     },
     "execution_count": 33,
     "metadata": {},
     "output_type": "execute_result"
    }
   ],
   "source": [
    "objX._a"
   ]
  },
  {
   "cell_type": "markdown",
   "metadata": {},
   "source": [
    "## Obj pass (Duck Typing)"
   ]
  },
  {
   "cell_type": "code",
   "execution_count": 89,
   "metadata": {
    "collapsed": true
   },
   "outputs": [],
   "source": [
    "class Xyz:\n",
    "    def sample_fun_Xyz(self):\n",
    "        print(\"We are in sample_fun_Xyz\")\n",
    "    "
   ]
  },
  {
   "cell_type": "code",
   "execution_count": 90,
   "metadata": {
    "collapsed": true
   },
   "outputs": [],
   "source": [
    "class XyzTester:\n",
    "    def exe_sample_fun_Xyz(self, objXyz):\n",
    "        \"\"\"\n",
    "        This function takes obj as input\n",
    "        \"\"\"\n",
    "        objXyz.sample_fun_Xyz()"
   ]
  },
  {
   "cell_type": "code",
   "execution_count": 91,
   "metadata": {
    "collapsed": true
   },
   "outputs": [],
   "source": [
    "objXyz = Xyz()\n"
   ]
  },
  {
   "cell_type": "code",
   "execution_count": 92,
   "metadata": {
    "collapsed": true
   },
   "outputs": [],
   "source": [
    "objTest = XyzTester()"
   ]
  },
  {
   "cell_type": "code",
   "execution_count": 93,
   "metadata": {
    "collapsed": false
   },
   "outputs": [
    {
     "name": "stdout",
     "output_type": "stream",
     "text": [
      "We are in sample_fun_Xyz\n"
     ]
    }
   ],
   "source": [
    "objTest.exe_sample_fun_Xyz(objXyz)"
   ]
  },
  {
   "cell_type": "markdown",
   "metadata": {},
   "source": [
    "## Operator over loading"
   ]
  },
  {
   "cell_type": "code",
   "execution_count": 94,
   "metadata": {
    "collapsed": true
   },
   "outputs": [],
   "source": [
    "class OperatorOverLoader:\n",
    "    \n",
    "    def __init__(self, a):\n",
    "        self.a = a\n",
    "        \n",
    "    def sum_of_nums(self, x=None, y=None,z=None):\n",
    "        if x is not None and y is not None and z is not None:\n",
    "            if type(x) == type(1) and type(y) == type(1) and type(z)==type(1):\n",
    "                return x*y*z\n",
    "            elif type(x) == type(\"abc\") and type(y) ==type(\"str\")  and type(z)==type(\"Str\"):\n",
    "                return x+y+z\n",
    "        else:\n",
    "            return -1\n",
    "\n"
   ]
  },
  {
   "cell_type": "code",
   "execution_count": 95,
   "metadata": {
    "collapsed": true
   },
   "outputs": [],
   "source": [
    "objOverloader = OperatorOverLoader(1)"
   ]
  },
  {
   "cell_type": "code",
   "execution_count": 96,
   "metadata": {
    "collapsed": false
   },
   "outputs": [
    {
     "data": {
      "text/plain": [
       "6"
      ]
     },
     "execution_count": 96,
     "metadata": {},
     "output_type": "execute_result"
    }
   ],
   "source": [
    "objOverloader.sum_of_nums(1,2,3)"
   ]
  },
  {
   "cell_type": "code",
   "execution_count": 97,
   "metadata": {
    "collapsed": false
   },
   "outputs": [
    {
     "data": {
      "text/plain": [
       "'ABC'"
      ]
     },
     "execution_count": 97,
     "metadata": {},
     "output_type": "execute_result"
    }
   ],
   "source": [
    "objOverloader.sum_of_nums(\"A\",\"B\",\"C\")"
   ]
  },
  {
   "cell_type": "code",
   "execution_count": null,
   "metadata": {
    "collapsed": true
   },
   "outputs": [],
   "source": [
    "# create a class Student:\n",
    "# defin the var\n",
    "# def the fun for cal avg for that student\n",
    "\n",
    "\n",
    "# student1 = Student(parms)\n",
    "# student2 = Student(parms)\n",
    "# student3 = Student(parms)\n",
    "# student4 = Student(parms)\n",
    "student_objs= [1,3,3,4]\n",
    "# max_student = student1\n",
    "\n",
    "\n",
    "max_ele = student_objs[0].avg\n",
    "\n",
    "\n",
    "for value in student_objs:\n",
    "    if value.avg > max_ele:\n",
    "        max_ele = value\n",
    "\n",
    "        \n",
    "print(max_ele)\n",
    "    \n",
    "    "
   ]
  }
 ],
 "metadata": {
  "anaconda-cloud": {},
  "kernelspec": {
   "display_name": "Python [Root]",
   "language": "python",
   "name": "Python [Root]"
  },
  "language_info": {
   "codemirror_mode": {
    "name": "ipython",
    "version": 3
   },
   "file_extension": ".py",
   "mimetype": "text/x-python",
   "name": "python",
   "nbconvert_exporter": "python",
   "pygments_lexer": "ipython3",
   "version": "3.5.6"
  }
 },
 "nbformat": 4,
 "nbformat_minor": 0
}
