{
 "cells": [
  {
   "cell_type": "markdown",
   "metadata": {},
   "source": [
    "Big-O Cheat Sheet : https://www.bigocheatsheet.com/\n",
    "\n",
    "TimeComplexity Sheet: https://wiki.python.org/moin/TimeComplexity "
   ]
  },
  {
   "cell_type": "code",
   "execution_count": 142,
   "metadata": {
    "collapsed": false
   },
   "outputs": [
    {
     "name": "stdout",
     "output_type": "stream",
     "text": [
      "0\n",
      "1\n",
      "2\n",
      "3\n",
      "4\n",
      "Not fouond\n"
     ]
    }
   ],
   "source": [
    "for i in range(5):\n",
    "    print(i)\n",
    "else:\n",
    "    print(\"Not fouond\")"
   ]
  },
  {
   "cell_type": "code",
   "execution_count": 2,
   "metadata": {
    "collapsed": true
   },
   "outputs": [],
   "source": [
    "\"\"\"input manatees: a list of \"manatees\", where one manatee is represented by a dictionary\n",
    "a single manatee has properties like \"name\", \"age\", etcetera\n",
    "n = the number of elements in \"manatees\"\n",
    "m = the number of properties per \"manatee\" (i.e. the number of keys in a manatee dictionary)\"\"\"\n",
    "\n",
    "manatees = [{\"name\":\"\", \"age\":\"\"}]\n",
    "\n",
    "def example1(manatees):\n",
    "    \"\"\"\n",
    "    o(n)\n",
    "    We iterate over every manatee in the manatees list with the for loop. Since we're given that manatees has n elements, our code will take approximately O(n) time to run\n",
    "    \"\"\"\n",
    "    for manatee in manatees:\n",
    "        print (manatee['name'])\n",
    "\n",
    "def example2(manatees):\n",
    "    #     o(1)\n",
    "    \"\"\"\n",
    "    We look at two specific properties of a specific manatee. We aren't iterating over anything - just doing constant-time lookups on lists and dictionaries. Thus the code will complete in constant, or O(1), time.\n",
    "    \"\"\"\n",
    "    print (manatees[0]['name'])\n",
    "    print (manatees[0]['age'])\n",
    "\n",
    "def example3(manatees):\n",
    "    # O(nm)\n",
    "    \"\"\"\n",
    "    There are two for loops, and nested for loops are a good sign that you need to multiply two runtimes. Here, for every manatee, we check every property. If we had 4 manatees, each with 5 properties, then we would need 5+5+5+5 steps. This logic simplifies to the number of manatees times the number of properties, or O(nm)\n",
    "    \"\"\"\n",
    "    for manatee in manatees:\n",
    "        for manatee_property in manatee:\n",
    "            print (manatee_property, \": \", manatee[manatee_property])\n",
    "\n",
    "def example4(manatees):\n",
    "    \"\"\"\n",
    "    Again we have nested for loops. This time we're iterating over the manatees list twice - every time we see a manatee, we compare it to every other manatee's age. We end up with O(nn), or O(n^2) (which is read as \"n squared\").\n",
    "\n",
    "    Throughout the course, you can reference the Big-O Cheat Sheet to keep track of time complexities for many of the algorithms and data structures we study.\n",
    "    \"\"\"\n",
    "    # O(n^2)\n",
    "    oldest_manatee = \"No manatees here!\"\n",
    "    for manatee1 in manatees:\n",
    "        for manatee2 in manatees:\n",
    "            if manatee1['age'] < manatee2['age']:\n",
    "                oldest_manatee = manatee2['name']\n",
    "            else:\n",
    "                oldest_manatee = manatee1['name']\n",
    "    print (oldest_manatee)"
   ]
  },
  {
   "cell_type": "raw",
   "metadata": {},
   "source": [
    "Python has an interesting data stucture called a \"list\" that is much more than a mere list. In fact, a Python list actually encompasses the functionality of almost every list-based data structure in this lesson.\n",
    "\n",
    "Behind the scenes a Python list is built as an array. Even though you can do many operations on a Python list with just one line of code, there's a lot of code built in to the Python language running to make that operation possible.\n",
    "\n",
    "For example, inserting into a list is easy (happens in constant time). However, inserting into an array is O(n), since you may need to shift elements to make space for the one you're inserting, or even copy everything to a new array if you run out of space. Thus, inserting into a Python list is actually O(n), while operations that search for an element at a particular spot are O(1). You can see the runtime of other list operations here.\n",
    "\n",
    "Python is a \"higher level\" programming language, so you can accomplish a task with little code. However, there's a lot of code built into the infrastructure in this way that causes your code to actually run much more slowly than you'd think. Keep this in the back of your mind when using Python. You likely won't need to know the details of how Python works behind the scenes in a programming interview, but you'll seem very impressive if you do!"
   ]
  },
  {
   "cell_type": "markdown",
   "metadata": {},
   "source": [
    "# Linked list\n",
    "\n",
    "There isn't a built-in data structure in Python that looks like a linked list. Thankfully, it's easy to make classes that represent data structures in Python!"
   ]
  },
  {
   "cell_type": "code",
   "execution_count": 5,
   "metadata": {
    "collapsed": true
   },
   "outputs": [],
   "source": [
    "class Element(object):\n",
    "    def __init__(self, value):\n",
    "        self.value = value\n",
    "        self.next = None"
   ]
  },
  {
   "cell_type": "code",
   "execution_count": 10,
   "metadata": {
    "collapsed": true
   },
   "outputs": [],
   "source": [
    "class LinkedList(object):\n",
    "    def __init__(self, head=None):\n",
    "        self.head = head\n",
    "    \n",
    "    def append(self, new_element):\n",
    "        \"\"\"\n",
    "        If the LinkedList already has a head, iterate through the next reference in \n",
    "        every Element until you reach the end of the list. \n",
    "        Set next for the end of the list to be the new_element. \n",
    "        Alternatively, if there is no head already, you should just assign new_element to it and do nothing else.\n",
    "        \"\"\"\n",
    "        current = self.head\n",
    "        if self.head:\n",
    "            while current.next:\n",
    "                current = current.next\n",
    "            current.next = new_element\n",
    "        else:\n",
    "            self.head = new_element\n",
    "            \n",
    "    \n",
    "    def insert_first(self, new_element):\n",
    "        \"Insert new element as the head of the LinkedList\"\n",
    "        pass\n",
    "\n",
    "    def delete_first(self):\n",
    "        \"Delete the first (head) element in the LinkedList as return it\"\n",
    "        pass"
   ]
  },
  {
   "cell_type": "code",
   "execution_count": null,
   "metadata": {
    "collapsed": true
   },
   "outputs": [],
   "source": []
  },
  {
   "cell_type": "code",
   "execution_count": 14,
   "metadata": {
    "collapsed": true
   },
   "outputs": [],
   "source": [
    "ele1 = Element(2)\n",
    "ele2 = Element(3)\n",
    "ele3 = Element(4)\n"
   ]
  },
  {
   "cell_type": "code",
   "execution_count": 21,
   "metadata": {
    "collapsed": true
   },
   "outputs": [],
   "source": [
    "linkedList = LinkedList()"
   ]
  },
  {
   "cell_type": "code",
   "execution_count": 22,
   "metadata": {
    "collapsed": false
   },
   "outputs": [],
   "source": [
    "linkedList.append(ele1)\n",
    "linkedList.append(ele2)\n",
    "linkedList.append(ele3)\n"
   ]
  },
  {
   "cell_type": "code",
   "execution_count": 29,
   "metadata": {
    "collapsed": false
   },
   "outputs": [
    {
     "data": {
      "text/plain": [
       "2"
      ]
     },
     "execution_count": 29,
     "metadata": {},
     "output_type": "execute_result"
    }
   ],
   "source": [
    "linkedList.head.value"
   ]
  },
  {
   "cell_type": "code",
   "execution_count": 32,
   "metadata": {
    "collapsed": false
   },
   "outputs": [
    {
     "data": {
      "text/plain": [
       "4"
      ]
     },
     "execution_count": 32,
     "metadata": {},
     "output_type": "execute_result"
    }
   ],
   "source": [
    "ele2.next.value"
   ]
  },
  {
   "cell_type": "code",
   "execution_count": 232,
   "metadata": {
    "collapsed": false
   },
   "outputs": [
    {
     "name": "stdout",
     "output_type": "stream",
     "text": [
      "3\n",
      "2\n",
      "1\n",
      "None\n",
      "4\n"
     ]
    }
   ],
   "source": [
    "\"\"\"Add a couple methods to our LinkedList class,\n",
    "and use that to implement a Stack.\n",
    "You have 4 functions below to fill in:\n",
    "insert_first, delete_first, push, and pop.\n",
    "Think about this while you're implementing:\n",
    "why is it easier to add an \"insert_first\"\n",
    "function than just use \"append\"?\"\"\"\n",
    "\n",
    "class Element(object):\n",
    "    def __init__(self, value):\n",
    "        self.value = value\n",
    "        self.next = None\n",
    "        \n",
    "class LinkedList(object):\n",
    "    def __init__(self, head=None):\n",
    "        self.head = head\n",
    "        \n",
    "    def append(self, new_element):\n",
    "        \"\"\"\n",
    "        If the LinkedList already has a head, iterate through the next reference in \n",
    "        every Element until you reach the end of the list. \n",
    "        Set next for the end of the list to be the new_element. \n",
    "        Alternatively, if there is no head already, you should just assign new_element to it and do nothing else.\n",
    "        \"\"\"\n",
    "        current = self.head\n",
    "        if self.head:\n",
    "            while current.next:\n",
    "                current = current.next\n",
    "            current.next = new_element\n",
    "        else:\n",
    "            self.head = new_element\n",
    "\n",
    "    def insert_first(self, new_element):\n",
    "        \"Insert new element as the head of the LinkedList\"\n",
    "        if self.head:\n",
    "            new_element.next = self.head\n",
    "            self.head = new_element\n",
    "        else:\n",
    "            self.head = new_element\n",
    "\n",
    "    def delete_first(self):\n",
    "        \"Delete the first (head) element in the LinkedList as return it\"\n",
    "        current = self.head\n",
    "        if self.head is not None:\n",
    "            next_ele = self.head.next\n",
    "            self.head = next_ele\n",
    "            return current\n",
    "            \n",
    "\n",
    "class Stack(object):\n",
    "    def __init__(self,top=None):\n",
    "        self.ll = LinkedList(top)\n",
    "\n",
    "    def push(self, new_element):\n",
    "        \"Push (add) a new element onto the top of the stack\"\n",
    "        self.ll.insert_first(new_element)\n",
    "\n",
    "    def pop(self):\n",
    "        \"Pop (remove) the first element off the top of the stack and return it\"\n",
    "        return self.ll.delete_first()\n",
    "    \n",
    "# Test cases\n",
    "# Set up some Elements\n",
    "e1 = Element(1)\n",
    "e2 = Element(2)\n",
    "e3 = Element(3)\n",
    "e4 = Element(4)\n",
    "\n",
    "# Start setting up a Stack\n",
    "stack = Stack(e1)\n",
    "\n",
    "# Test stack functionality\n",
    "stack.push(e2)\n",
    "stack.push(e3)\n",
    "print (stack.pop().value)\n",
    "print (stack.pop().value)\n",
    "print (stack.pop().value)\n",
    "print (stack.pop())\n",
    "stack.push(e4)\n",
    "print(stack.pop().value)"
   ]
  },
  {
   "cell_type": "raw",
   "metadata": {},
   "source": [
    "Queues"
   ]
  },
  {
   "cell_type": "code",
   "execution_count": 233,
   "metadata": {
    "collapsed": true
   },
   "outputs": [],
   "source": [
    "e1 = Element(1)\n",
    "e2 = Element(2)\n",
    "e3 = Element(3)"
   ]
  },
  {
   "cell_type": "code",
   "execution_count": 234,
   "metadata": {
    "collapsed": true
   },
   "outputs": [],
   "source": [
    "class MinStack:\n",
    "\n",
    "    def __init__(self):\n",
    "        \"\"\"\n",
    "        initialize your data structure here.\n",
    "        \"\"\"\n",
    "        self.head = None\n",
    "        \n",
    "    def push(self, x: int) -> None:\n",
    "        current = self.head\n",
    "        if current:\n",
    "            while current.next:\n",
    "                current = current.next\n",
    "            current.next = x\n",
    "        else:\n",
    "            self.head = x\n",
    "        \n",
    "        \n",
    "    def pop(self) -> None:\n",
    "        current = self.head\n",
    "        if current == None:\n",
    "            return None\n",
    "        if current.next==None:\n",
    "            current = None\n",
    "        \n",
    "        nextpointer = current.next\n",
    "        \n",
    "        while nextpointer.next:\n",
    "            nextpointer = nextpointer.next\n",
    "            current = current.next\n",
    "    \n",
    "        current.next = None\n",
    "        return nextpointer\n",
    "\n",
    "    def top(self) -> int:\n",
    "        return self.head\n",
    "\n",
    "    def getMin(self) -> int:\n",
    "        min_ = self.head\n",
    "        \n",
    "        while min_.next:\n",
    "            if min_.next.value < min_:\n",
    "                min_ = min_.next\n",
    "        return min_\n",
    "\n",
    "# Your MinStack object will be instantiated and called as such:\n",
    "# obj = MinStack()\n",
    "# obj.push(x)\n",
    "# obj.pop()\n",
    "# param_3 = obj.top()\n",
    "# param_4 = obj.getMin()"
   ]
  },
  {
   "cell_type": "code",
   "execution_count": null,
   "metadata": {
    "collapsed": true
   },
   "outputs": [],
   "source": []
  },
  {
   "cell_type": "code",
   "execution_count": 236,
   "metadata": {
    "collapsed": true
   },
   "outputs": [],
   "source": [
    "ms = MinStack()"
   ]
  },
  {
   "cell_type": "code",
   "execution_count": 237,
   "metadata": {
    "collapsed": true
   },
   "outputs": [],
   "source": [
    "ms.push(e1)"
   ]
  },
  {
   "cell_type": "code",
   "execution_count": 239,
   "metadata": {
    "collapsed": true
   },
   "outputs": [],
   "source": [
    "ms.push(e3)"
   ]
  },
  {
   "cell_type": "code",
   "execution_count": 243,
   "metadata": {
    "collapsed": false
   },
   "outputs": [],
   "source": [
    "popelement = ms.pop()\n"
   ]
  },
  {
   "cell_type": "code",
   "execution_count": 244,
   "metadata": {
    "collapsed": false
   },
   "outputs": [
    {
     "data": {
      "text/plain": [
       "2"
      ]
     },
     "execution_count": 244,
     "metadata": {},
     "output_type": "execute_result"
    }
   ],
   "source": [
    "popelement.value\n"
   ]
  },
  {
   "cell_type": "code",
   "execution_count": 39,
   "metadata": {
    "collapsed": false
   },
   "outputs": [
    {
     "data": {
      "text/plain": [
       "[1, 2]"
      ]
     },
     "execution_count": 39,
     "metadata": {},
     "output_type": "execute_result"
    }
   ],
   "source": [
    "[1] + [2]"
   ]
  },
  {
   "cell_type": "code",
   "execution_count": null,
   "metadata": {
    "collapsed": true
   },
   "outputs": [],
   "source": []
  },
  {
   "cell_type": "code",
   "execution_count": null,
   "metadata": {
    "collapsed": true
   },
   "outputs": [],
   "source": []
  },
  {
   "cell_type": "code",
   "execution_count": 40,
   "metadata": {
    "collapsed": true
   },
   "outputs": [],
   "source": [
    "x = [1,4]"
   ]
  },
  {
   "cell_type": "code",
   "execution_count": 41,
   "metadata": {
    "collapsed": true
   },
   "outputs": [],
   "source": [
    "del x[0]"
   ]
  },
  {
   "cell_type": "code",
   "execution_count": 42,
   "metadata": {
    "collapsed": false
   },
   "outputs": [
    {
     "data": {
      "text/plain": [
       "[4]"
      ]
     },
     "execution_count": 42,
     "metadata": {},
     "output_type": "execute_result"
    }
   ],
   "source": [
    "x"
   ]
  },
  {
   "cell_type": "code",
   "execution_count": 44,
   "metadata": {
    "collapsed": false
   },
   "outputs": [
    {
     "name": "stdout",
     "output_type": "stream",
     "text": [
      "1\n",
      "1\n",
      "2\n",
      "3\n",
      "4\n",
      "5\n"
     ]
    }
   ],
   "source": [
    "\"\"\"Make a Queue class using a list!\n",
    "Hint: You can use any Python list method\n",
    "you'd like! Try to write each one in as \n",
    "few lines as possible.\n",
    "Make sure you pass the test cases too!\"\"\"\n",
    "\n",
    "class Queue:\n",
    "    def __init__(self, head=None):\n",
    "        self.storage = [head]\n",
    "\n",
    "    def enqueue(self, new_element):\n",
    "        self.storage.append(new_element)\n",
    "\n",
    "    def peek(self):\n",
    "        return self.storage[0] \n",
    "\n",
    "    def dequeue(self):\n",
    "        return self.storage.pop(0)\n",
    "    \n",
    "# Setup\n",
    "q = Queue(1)\n",
    "q.enqueue(2)\n",
    "q.enqueue(3)\n",
    "\n",
    "# Test peek\n",
    "# Should be 1\n",
    "print(q.peek())\n",
    "\n",
    "# Test dequeue\n",
    "# Should be 1\n",
    "print (q.dequeue())\n",
    "\n",
    "# Test enqueue\n",
    "q.enqueue(4)\n",
    "# Should be 2\n",
    "print (q.dequeue())\n",
    "# Should be 3\n",
    "print (q.dequeue())\n",
    "# Should be 4\n",
    "print (q.dequeue())\n",
    "q.enqueue(5)\n",
    "# Should be 5\n",
    "print (q.peek())"
   ]
  },
  {
   "cell_type": "code",
   "execution_count": 123,
   "metadata": {
    "collapsed": false
   },
   "outputs": [],
   "source": [
    "def binary_search(input_array, value):\n",
    "    low = 0\n",
    "    high = len(input_array)-1\n",
    "\n",
    "    while low<=high:\n",
    "        mid = (low+high)//2\n",
    "        if input_array[mid] == value:\n",
    "            return mid\n",
    "        if value > input_array[mid]:\n",
    "            low = mid+1\n",
    "        elif value < input_array[mid]:\n",
    "            high = mid - 1\n",
    "    return \"not found\"\n",
    "        \n",
    "\n"
   ]
  },
  {
   "cell_type": "code",
   "execution_count": 126,
   "metadata": {
    "collapsed": false
   },
   "outputs": [
    {
     "data": {
      "text/plain": [
       "'not found'"
      ]
     },
     "execution_count": 126,
     "metadata": {},
     "output_type": "execute_result"
    }
   ],
   "source": [
    "x = [2,4,5,7]\n",
    "value =9\n",
    "binary_search(x, value)"
   ]
  },
  {
   "cell_type": "markdown",
   "metadata": {},
   "source": [
    "## Recursion"
   ]
  },
  {
   "cell_type": "code",
   "execution_count": 140,
   "metadata": {
    "collapsed": true
   },
   "outputs": [],
   "source": [
    "def recursion_fun(value):\n",
    "    print(\"Inside recursive fun\", value)\n",
    "    if value <=1:\n",
    "        print(\"If loop\")\n",
    "        return value\n",
    "    else:\n",
    "        output = recursion_fun(value-1)\n",
    "        print(\"output: \",output)\n",
    "        return output\n",
    "    "
   ]
  },
  {
   "cell_type": "code",
   "execution_count": 144,
   "metadata": {
    "collapsed": false
   },
   "outputs": [
    {
     "name": "stdout",
     "output_type": "stream",
     "text": [
      "Inside recursive fun 5\n",
      "Inside recursive fun 4\n",
      "Inside recursive fun 3\n",
      "Inside recursive fun 2\n",
      "Inside recursive fun 1\n",
      "If loop\n",
      "output:  2\n",
      "output:  6\n",
      "output:  24\n",
      "output:  120\n"
     ]
    }
   ],
   "source": [
    "final_out = recursion_fun(5)"
   ]
  },
  {
   "cell_type": "code",
   "execution_count": 143,
   "metadata": {
    "collapsed": false
   },
   "outputs": [
    {
     "data": {
      "text/plain": [
       "6"
      ]
     },
     "execution_count": 143,
     "metadata": {},
     "output_type": "execute_result"
    }
   ],
   "source": [
    "final_out"
   ]
  },
  {
   "cell_type": "code",
   "execution_count": 148,
   "metadata": {
    "collapsed": true
   },
   "outputs": [],
   "source": [
    "\n",
    "def recursive_binarySearch(low, high, inputArray, value):\n",
    "    mid = (low+high)//2\n",
    "    if low > high:\n",
    "        return \"Not found\"\n",
    "    elif inputArray[mid]==value:\n",
    "        return mid\n",
    "    elif value > inputArray[mid]:\n",
    "        return recursive_binarySearch(mid+1,high, inputArray, value)\n",
    "    elif value < inputArray[mid]:\n",
    "        return recursive_binarySearch(low, mid-1, inputArray, value)\n",
    "\n",
    "    "
   ]
  },
  {
   "cell_type": "code",
   "execution_count": 155,
   "metadata": {
    "collapsed": false
   },
   "outputs": [
    {
     "data": {
      "text/plain": [
       "0"
      ]
     },
     "execution_count": 155,
     "metadata": {},
     "output_type": "execute_result"
    }
   ],
   "source": [
    "inputArray = [2]\n",
    "value =2\n",
    "low = 0\n",
    "high = len(inputArray)-1\n",
    "\n",
    "recursive_binarySearch(low, high, inputArray, value)"
   ]
  },
  {
   "cell_type": "markdown",
   "metadata": {},
   "source": [
    "## Fibonacci Sequence"
   ]
  },
  {
   "cell_type": "raw",
   "metadata": {},
   "source": [
    "The Fibonacci Sequence follows one rule: get the next number in the sequence by adding the two previous numbers. Here is an example of the sequence:\n",
    "\n",
    "0,1,1,2,3,5,8,13,21,34...\n",
    "\n",
    "Step through each value. You start with 0 and 1. 0 + 1 = 1, so you add 1 to the sequence. 1 + 1 = 2, so 2 is added. 1 + 2 = 3, so 3. 2 + 3 = 5, et cetera.\n",
    "\n",
    "You could represent these numbers as Python list, and it would look something like this:\n",
    "\n",
    "fib_seq = []\n",
    "fib_seq[0] = 0\n",
    "fib_seq[1] = 1\n",
    "fib_seq[2] = 1\n",
    "fib_seq[3] = 2\n",
    "fib_seq[4] = 3\n",
    "fib_seq[5] = 5\n",
    "fib_seq[6] = 8\n",
    "fib_seq[7] = 13\n",
    "fib_seq[8] = 21\n",
    "fib_seq[9] = 34"
   ]
  },
  {
   "cell_type": "code",
   "execution_count": 157,
   "metadata": {
    "collapsed": false
   },
   "outputs": [
    {
     "data": {
      "text/plain": [
       "[0, 1, 1, 2, 3, 5, 8, 13, 21, 34, 55, 89]"
      ]
     },
     "execution_count": 157,
     "metadata": {},
     "output_type": "execute_result"
    }
   ],
   "source": [
    "fib_seq = [0, 1]\n",
    "for i in range(10):\n",
    "    first = fib_seq[-1]\n",
    "    second = fib_seq[-2]\n",
    "    fib_seq.append(first+second)\n",
    "    \n",
    "fib_seq"
   ]
  },
  {
   "cell_type": "markdown",
   "metadata": {},
   "source": [
    "### Fibonacci Sequence using recursion"
   ]
  },
  {
   "cell_type": "code",
   "execution_count": 171,
   "metadata": {
    "collapsed": true
   },
   "outputs": [],
   "source": [
    "def fib_seq_rec(n, fib_list):\n",
    "    first = fib_list[-1]\n",
    "    second = fib_list[-2]\n",
    "    if n<=1:\n",
    "        fib_list.append(first+second)\n",
    "        return fib_list[-2]\n",
    "    else:\n",
    "        fib_list.append(first+second)\n",
    "        return fib_seq_rec(n-1, fib_list)\n"
   ]
  },
  {
   "cell_type": "code",
   "execution_count": 173,
   "metadata": {
    "collapsed": false
   },
   "outputs": [
    {
     "data": {
      "text/plain": [
       "34"
      ]
     },
     "execution_count": 173,
     "metadata": {},
     "output_type": "execute_result"
    }
   ],
   "source": [
    "fib_seq_rec(9, [0,1])"
   ]
  },
  {
   "cell_type": "code",
   "execution_count": 174,
   "metadata": {
    "collapsed": true
   },
   "outputs": [],
   "source": [
    "def sum_of_n(n):\n",
    "    if n<=1:\n",
    "        return 1\n",
    "    else:\n",
    "        sum_n = n + sum_of_n(n-1)\n",
    "        return sum_n\n"
   ]
  },
  {
   "cell_type": "code",
   "execution_count": 177,
   "metadata": {
    "collapsed": false
   },
   "outputs": [
    {
     "data": {
      "text/plain": [
       "55"
      ]
     },
     "execution_count": 177,
     "metadata": {},
     "output_type": "execute_result"
    }
   ],
   "source": [
    "sum_of_n(10)"
   ]
  },
  {
   "cell_type": "markdown",
   "metadata": {},
   "source": [
    "### Fibonacci with out using a list"
   ]
  },
  {
   "cell_type": "code",
   "execution_count": 2,
   "metadata": {
    "collapsed": false
   },
   "outputs": [
    {
     "data": {
      "text/plain": [
       "13"
      ]
     },
     "execution_count": 2,
     "metadata": {},
     "output_type": "execute_result"
    }
   ],
   "source": [
    "def fib_with_out_list(position, first=0, second=1):\n",
    "    if position<=0:\n",
    "        return first\n",
    "    else:\n",
    "        return fib_with_out_list(position-1, second, second+first)\n",
    "\n",
    "        \n",
    "fib_with_out_list(7)\n",
    "# [0, 1, 1, 2, 3, 5, 8, 13, 21, 34, 55, 89]"
   ]
  },
  {
   "cell_type": "markdown",
   "metadata": {},
   "source": [
    "## Bubble sort"
   ]
  },
  {
   "cell_type": "raw",
   "metadata": {},
   "source": [
    "WorstCase, Avg case = O(n^2)\n",
    "Inline algorithm as we only used the same list to iterate, so space complexity is constant-> O(1)"
   ]
  },
  {
   "cell_type": "code",
   "execution_count": 13,
   "metadata": {
    "collapsed": false
   },
   "outputs": [
    {
     "name": "stdout",
     "output_type": "stream",
     "text": [
      "Internal steps:  1\n",
      "Internal steps:  2\n",
      "Internal steps:  3\n",
      "Internal steps:  4\n",
      "No of comparisions 0 :  [0, 3, 7, 1, 8]\n",
      "Internal steps:  2\n",
      "Internal steps:  3\n",
      "Internal steps:  4\n",
      "No of comparisions 1 :  [0, 1, 7, 3, 8]\n",
      "Internal steps:  3\n",
      "Internal steps:  4\n",
      "No of comparisions 2 :  [0, 1, 3, 7, 8]\n",
      "Internal steps:  4\n",
      "No of comparisions 3 :  [0, 1, 3, 7, 8]\n",
      "Runtime steps:  4\n"
     ]
    }
   ],
   "source": [
    "x = [3,1,7,0,8]\n",
    "for i in range(len(x)-1):\n",
    "    for j in range(i+1, len(x)):\n",
    "        if x[i] > x[j]:\n",
    "            temp = x[i]\n",
    "            x[i] = x[j]\n",
    "            x[j] = temp\n",
    "        print(\"Internal steps: \", j)\n",
    "    print(\"No of comparisions %s : \"%(i),x)\n",
    "# print(\"Runtime steps: \", (len(x)-1) )"
   ]
  },
  {
   "cell_type": "code",
   "execution_count": 7,
   "metadata": {
    "collapsed": false
   },
   "outputs": [
    {
     "data": {
      "text/plain": [
       "[1, 2, 3, 4, 6]"
      ]
     },
     "execution_count": 7,
     "metadata": {},
     "output_type": "execute_result"
    }
   ],
   "source": []
  },
  {
   "cell_type": "markdown",
   "metadata": {},
   "source": [
    "## Mergesort"
   ]
  },
  {
   "cell_type": "code",
   "execution_count": 14,
   "metadata": {
    "collapsed": false
   },
   "outputs": [
    {
     "name": "stdout",
     "output_type": "stream",
     "text": [
      "3 1\n",
      "6 5\n",
      "10 9\n"
     ]
    }
   ],
   "source": [
    "x = [1,5, 9] \n",
    "y = [3, 6, 10, 11, 19]\n",
    "\n",
    "for i, j in zip(y, x):\n",
    "    print(i, j)"
   ]
  },
  {
   "cell_type": "code",
   "execution_count": 63,
   "metadata": {
    "collapsed": false
   },
   "outputs": [],
   "source": [
    "def merge_lists(x, y):\n",
    "    i = 0\n",
    "    j = 0\n",
    "    final_list = []\n",
    "    while i <len(x) and j< len(y):\n",
    "        if x[i] < y[j]:\n",
    "            final_list.append(x[i])\n",
    "            i+=1\n",
    "        else:\n",
    "            final_list.append(y[j])\n",
    "            j+=1\n",
    "    while i < len(x):\n",
    "        final_list.append(x[i])\n",
    "        i+=1\n",
    "    while j < len(y):\n",
    "        final_list.append(y[j])\n",
    "        j+=1\n",
    "    return final_list"
   ]
  },
  {
   "cell_type": "code",
   "execution_count": 64,
   "metadata": {
    "collapsed": false
   },
   "outputs": [
    {
     "data": {
      "text/plain": [
       "[1, 3, 5, 6, 9, 10, 11, 19]"
      ]
     },
     "execution_count": 64,
     "metadata": {},
     "output_type": "execute_result"
    }
   ],
   "source": [
    "final_list"
   ]
  },
  {
   "cell_type": "code",
   "execution_count": 35,
   "metadata": {
    "collapsed": false
   },
   "outputs": [],
   "source": [
    "sampleList = [1,4,3,2,7,5]"
   ]
  },
  {
   "cell_type": "code",
   "execution_count": 67,
   "metadata": {
    "collapsed": true
   },
   "outputs": [],
   "source": [
    "def merge_sort_recursion(sampleList):\n",
    "    print(sampleList)\n",
    "    mid = len(sampleList)//2\n",
    "    if mid==0:\n",
    "        return sampleList\n",
    "    else:\n",
    "        list1 = merge_sort_recursion(sampleList[:mid])\n",
    "        list2 = merge_sort_recursion(sampleList[mid:])\n",
    "        print(\"LISTS: \",list1, list2)\n",
    "        return merge_lists(list1, list2)"
   ]
  },
  {
   "cell_type": "code",
   "execution_count": 68,
   "metadata": {
    "collapsed": false
   },
   "outputs": [
    {
     "name": "stdout",
     "output_type": "stream",
     "text": [
      "[1, 4, 3, 2, 7, 5]\n",
      "[1, 4, 3]\n",
      "[1]\n",
      "[4, 3]\n",
      "[4]\n",
      "[3]\n",
      "LISTS:  [4] [3]\n",
      "LISTS:  [1] [3, 4]\n",
      "[2, 7, 5]\n",
      "[2]\n",
      "[7, 5]\n",
      "[7]\n",
      "[5]\n",
      "LISTS:  [7] [5]\n",
      "LISTS:  [2] [5, 7]\n",
      "LISTS:  [1, 3, 4] [2, 5, 7]\n"
     ]
    },
    {
     "data": {
      "text/plain": [
       "[1, 2, 3, 4, 5, 7]"
      ]
     },
     "execution_count": 68,
     "metadata": {},
     "output_type": "execute_result"
    }
   ],
   "source": [
    "merge_sort_recursion(sampleList)"
   ]
  },
  {
   "cell_type": "raw",
   "metadata": {},
   "source": [
    "we are doing n comparisions for every step, and each step is taking log n times, so the final complexity is O(n log n)\n",
    "space complexity is O(n) as we are creating new arrays for every pass, however we are deleting them once we got our result."
   ]
  },
  {
   "cell_type": "markdown",
   "metadata": {},
   "source": [
    "## QuickSort"
   ]
  },
  {
   "cell_type": "code",
   "execution_count": 3,
   "metadata": {
    "collapsed": false
   },
   "outputs": [
    {
     "name": "stdout",
     "output_type": "stream",
     "text": [
      "2\n"
     ]
    },
    {
     "data": {
      "text/plain": [
       "[0, 1, 2, 7, 3, 10, 8]"
      ]
     },
     "execution_count": 3,
     "metadata": {},
     "output_type": "execute_result"
    }
   ],
   "source": [
    "x = [10, 16, 8, 12, 15, 6, 3, 9, 5]\n",
    "\n",
    "x = [8, 3, 1, 7, 0, 10, 2]\n",
    "def quickSort(index, pivot_index):\n",
    "    \n",
    "    #base case\n",
    "    \n",
    "    if index > pivot_index:\n",
    "        return x\n",
    "    \n",
    "    while index < pivot_index:\n",
    "        if x[index] > x[pivot_index]:\n",
    "            indexValue = x[index]\n",
    "            x[index] = x[pivot_index -1]\n",
    "            x[pivot_index-1] = x[pivot_index]\n",
    "            x[pivot_index] = indexValue\n",
    "            pivot_index-=1\n",
    "        else:\n",
    "            index+=1\n",
    "    \n",
    "    print(pivot_index)\n",
    "\n",
    "    quickSort(0, pivot_index-1)\n",
    "    print(pivot_index)\n",
    "    \n",
    "    return x\n",
    "\n",
    "quickSort(0, len(x)-1)\n",
    "    \n",
    "\n"
   ]
  },
  {
   "cell_type": "code",
   "execution_count": 127,
   "metadata": {
    "collapsed": false
   },
   "outputs": [
    {
     "data": {
      "text/plain": [
       "[6, 5, 8, 9, 3, 10, 15, 12, 16]"
      ]
     },
     "execution_count": 127,
     "metadata": {},
     "output_type": "execute_result"
    }
   ],
   "source": [
    "x"
   ]
  },
  {
   "cell_type": "code",
   "execution_count": 134,
   "metadata": {
    "collapsed": false
   },
   "outputs": [],
   "source": [
    "i = 0\n",
    "j = len(x)-1\n",
    "def recursive_quick(i, j):\n",
    "    if i < j:\n",
    "        k = quick_sort(i, j)\n",
    "        quick_sort(i, k)\n",
    "        quick_sort(k+1, j)\n",
    "        \n",
    "    "
   ]
  },
  {
   "cell_type": "code",
   "execution_count": 135,
   "metadata": {
    "collapsed": false
   },
   "outputs": [
    {
     "data": {
      "text/plain": [
       "[10, 16, 8, 12, 15, 6, 3, 9, 5]"
      ]
     },
     "execution_count": 135,
     "metadata": {},
     "output_type": "execute_result"
    }
   ],
   "source": [
    "x"
   ]
  },
  {
   "cell_type": "code",
   "execution_count": 266,
   "metadata": {
    "collapsed": true
   },
   "outputs": [],
   "source": [
    "class MinStack:\n",
    "    \n",
    "    def __init__(self):\n",
    "        \"\"\"\n",
    "        initialize your data structure here.\n",
    "        \"\"\"\n",
    "        self.stack = []\n",
    "        self.min_element = None\n",
    "        \n",
    "    def push(self, x: int) -> None:\n",
    "        if len(self.stack)==0:\n",
    "            self.min_element = x\n",
    "        else:\n",
    "            if x < self.min_element:\n",
    "                self.min_element = x\n",
    "        self.stack.append(x)\n",
    "        \n",
    "        \n",
    "    def pop(self) -> None:\n",
    "        if len(self.stack)!=0:\n",
    "            pop_ele =  self.stack.pop()\n",
    "            if pop_ele <= self.min_element:\n",
    "                if len(self.stack)>0:\n",
    "                    self.min_element = min(self.stack)\n",
    "                else:\n",
    "                    self.min_element=None\n",
    "            return pop_ele\n",
    "\n",
    "    def top(self) -> int:\n",
    "        if len(self.stack)!=0:\n",
    "            return self.stack[-1]\n",
    "\n",
    "    def getMin(self) -> int:\n",
    "        return self.min_element\n",
    "# Your MinStack object will be instantiated and called as such:\n",
    "# obj = MinStack()\n",
    "# obj.push(x)\n",
    "# obj.pop()\n",
    "# param_3 = obj.top()\n",
    "# param_4 = obj.getMin()"
   ]
  },
  {
   "cell_type": "code",
   "execution_count": 262,
   "metadata": {
    "collapsed": true
   },
   "outputs": [],
   "source": [
    "obj = MinStack()\n",
    "obj.push(-2)\n",
    "obj.push(0)\n",
    "obj.push(-3)"
   ]
  },
  {
   "cell_type": "code",
   "execution_count": 263,
   "metadata": {
    "collapsed": false
   },
   "outputs": [
    {
     "data": {
      "text/plain": [
       "[-2, 0, -3]"
      ]
     },
     "execution_count": 263,
     "metadata": {},
     "output_type": "execute_result"
    }
   ],
   "source": [
    "obj.stack"
   ]
  },
  {
   "cell_type": "code",
   "execution_count": 264,
   "metadata": {
    "collapsed": false
   },
   "outputs": [
    {
     "data": {
      "text/plain": [
       "-3"
      ]
     },
     "execution_count": 264,
     "metadata": {},
     "output_type": "execute_result"
    }
   ],
   "source": [
    "obj.min_element"
   ]
  },
  {
   "cell_type": "code",
   "execution_count": 255,
   "metadata": {
    "collapsed": false
   },
   "outputs": [
    {
     "data": {
      "text/plain": [
       "[-2, 0]"
      ]
     },
     "execution_count": 255,
     "metadata": {},
     "output_type": "execute_result"
    }
   ],
   "source": [
    "obj.stack"
   ]
  },
  {
   "cell_type": "code",
   "execution_count": 256,
   "metadata": {
    "collapsed": false
   },
   "outputs": [
    {
     "data": {
      "text/plain": [
       "-3"
      ]
     },
     "execution_count": 256,
     "metadata": {},
     "output_type": "execute_result"
    }
   ],
   "source": [
    "obj.getMin()"
   ]
  },
  {
   "cell_type": "code",
   "execution_count": 232,
   "metadata": {
    "collapsed": false
   },
   "outputs": [],
   "source": [
    "def lastStoneWeight(stones) -> int:\n",
    "    print(\"Input: \",stones)\n",
    "    if len(stones)==0:\n",
    "        return 0\n",
    "    if len(stones)==1:\n",
    "        return stones[0]\n",
    "    # if len(stones)==2:\n",
    "    #     return abs(stones[0] - stones[-1])\n",
    "    else:\n",
    "        stone1 = lastStoneWeight(stones[:len(stones)//2])\n",
    "        print(\"stone1: \", stone1)\n",
    "        stone2 = lastStoneWeight(stones[len(stones)//2:])\n",
    "        print(\"stone2: \", stone2)\n",
    "        return abs(stone1 - stone2)"
   ]
  },
  {
   "cell_type": "code",
   "execution_count": 230,
   "metadata": {
    "collapsed": true
   },
   "outputs": [],
   "source": [
    "def lastStoneWeight(stones) -> int:\n",
    "    while len(stones)>=1:\n",
    "        if len(stones)==1:\n",
    "            return stones[0]\n",
    "        stone1 = max(stones)\n",
    "        stones.remove(stone1)\n",
    "        stone2 = max(stones)\n",
    "        stones.remove(stone2)\n",
    "        diff = stone1 - stone2\n",
    "        if abs(diff)!=0:\n",
    "            stones.append(diff)\n"
   ]
  },
  {
   "cell_type": "code",
   "execution_count": 233,
   "metadata": {
    "collapsed": false
   },
   "outputs": [
    {
     "name": "stdout",
     "output_type": "stream",
     "text": [
      "Input:  [2, 9]\n",
      "Input:  [2]\n",
      "stone1:  2\n",
      "Input:  [9]\n",
      "stone2:  9\n"
     ]
    },
    {
     "data": {
      "text/plain": [
       "7"
      ]
     },
     "execution_count": 233,
     "metadata": {},
     "output_type": "execute_result"
    }
   ],
   "source": [
    "lastStoneWeight([2,9])"
   ]
  },
  {
   "cell_type": "code",
   "execution_count": 311,
   "metadata": {
    "collapsed": true
   },
   "outputs": [],
   "source": [
    "x = [1,-1,3,4,-2,5]"
   ]
  },
  {
   "cell_type": "code",
   "execution_count": 330,
   "metadata": {
    "collapsed": false
   },
   "outputs": [],
   "source": [
    "max_sub = x[0]\n",
    "max_sum = max_sub\n",
    "max_count = 1\n",
    "count  = 1\n",
    "for i in range(1, len(x)):\n",
    "    if max_sub + x[i] > x[i]:\n",
    "        count+=1\n",
    "        max_sub = max_sub + x[i]\n",
    "    else:\n",
    "        max_sub =  x[i]\n",
    "        count = 1\n",
    "    if max_count < count:\n",
    "        max_count = count\n"
   ]
  },
  {
   "cell_type": "code",
   "execution_count": 331,
   "metadata": {
    "collapsed": false
   },
   "outputs": [
    {
     "data": {
      "text/plain": [
       "4"
      ]
     },
     "execution_count": 331,
     "metadata": {},
     "output_type": "execute_result"
    }
   ],
   "source": [
    "max_sum\n",
    "count"
   ]
  },
  {
   "cell_type": "code",
   "execution_count": 320,
   "metadata": {
    "collapsed": false
   },
   "outputs": [
    {
     "data": {
      "text/plain": [
       "7"
      ]
     },
     "execution_count": 320,
     "metadata": {},
     "output_type": "execute_result"
    }
   ],
   "source": [
    "max(temp)"
   ]
  },
  {
   "cell_type": "code",
   "execution_count": 321,
   "metadata": {
    "collapsed": false
   },
   "outputs": [
    {
     "data": {
      "text/plain": [
       "[1, -1, 7, -2]"
      ]
     },
     "execution_count": 321,
     "metadata": {},
     "output_type": "execute_result"
    }
   ],
   "source": [
    "temp"
   ]
  },
  {
   "cell_type": "markdown",
   "metadata": {
    "collapsed": true
   },
   "source": [
    "## Trees"
   ]
  },
  {
   "cell_type": "markdown",
   "metadata": {},
   "source": [
    "## Binary Search Tree\n",
    "\n",
    "Time complexity O(log n)"
   ]
  },
  {
   "cell_type": "code",
   "execution_count": 135,
   "metadata": {
    "collapsed": false
   },
   "outputs": [],
   "source": [
    "class Node:\n",
    "    def __init__(self, root):\n",
    "        self.root = root\n",
    "        self.left = None\n",
    "        self.right = None\n",
    "        \n",
    "    def insert(self, value):\n",
    "        if self.root <= value:\n",
    "            if self.right==None:\n",
    "                self.right = Node(value)\n",
    "            else:\n",
    "                self.right.insert(value) # using recursion \n",
    "        else:\n",
    "            if self.left == None:\n",
    "                self.left = Node(value)\n",
    "            else:\n",
    "                self.left.insert(value) # using recursion\n",
    "    \n",
    "    def contains(self, value):\n",
    "        if value == self.root:\n",
    "            return True\n",
    "        if value > self.root:\n",
    "            if self.left is None:\n",
    "                return False\n",
    "            else:\n",
    "                return self.left.contains(value)\n",
    "        else:\n",
    "            if self.right is None:\n",
    "                return False\n",
    "            else:\n",
    "                return self.right.contains(value)\n",
    "\n",
    "    def printInOrder(self):\n",
    "        if self.left != None:\n",
    "            self.left.printInOrder()\n",
    "        \n",
    "        print(self.root)\n",
    "        \n",
    "        if self.right!= None:\n",
    "            self.right.printInOrder()\n",
    "        \n",
    "    def preOrder(self):\n",
    "        pass\n",
    "    \n",
    "    def inOrder(self):\n",
    "        pass\n",
    "    "
   ]
  },
  {
   "cell_type": "code",
   "execution_count": 136,
   "metadata": {
    "collapsed": false
   },
   "outputs": [],
   "source": [
    "tree = Node(5)"
   ]
  },
  {
   "cell_type": "code",
   "execution_count": 137,
   "metadata": {
    "collapsed": false
   },
   "outputs": [],
   "source": [
    "tree.insert(4)"
   ]
  },
  {
   "cell_type": "code",
   "execution_count": 138,
   "metadata": {
    "collapsed": false
   },
   "outputs": [],
   "source": [
    "tree.insert(7)"
   ]
  },
  {
   "cell_type": "code",
   "execution_count": 139,
   "metadata": {
    "collapsed": false
   },
   "outputs": [],
   "source": [
    "tree.insert(3)"
   ]
  },
  {
   "cell_type": "code",
   "execution_count": 140,
   "metadata": {
    "collapsed": true
   },
   "outputs": [],
   "source": [
    "tree.insert(1)"
   ]
  },
  {
   "cell_type": "code",
   "execution_count": 141,
   "metadata": {
    "collapsed": false
   },
   "outputs": [
    {
     "name": "stdout",
     "output_type": "stream",
     "text": [
      "1\n",
      "3\n",
      "4\n",
      "5\n",
      "7\n"
     ]
    }
   ],
   "source": [
    "tree.printInOrder()"
   ]
  },
  {
   "cell_type": "code",
   "execution_count": 64,
   "metadata": {
    "collapsed": false
   },
   "outputs": [
    {
     "data": {
      "text/plain": [
       "7"
      ]
     },
     "execution_count": 64,
     "metadata": {},
     "output_type": "execute_result"
    }
   ],
   "source": [
    "tree.right.right.root"
   ]
  },
  {
   "cell_type": "raw",
   "metadata": {},
   "source": [
    "Your goal is to create your own binary tree. You should start with the most basic building block:\n",
    "\n",
    "class Node(object):\n",
    "    def __init__(self, value):\n",
    "        self.value = value\n",
    "        self.left = None\n",
    "        self.right = None\n",
    "Every node has some value, and pointers to left and right children.\n",
    "\n",
    "You'll need to implement two methods: search(), which searches for the presence of a node in the tree, and print_tree(), which prints out the values of tree nodes in a pre-order traversal. You should attempt to use the helper methods provided to create recursive solutions to these functions.\n",
    "\n",
    "Let's get started!"
   ]
  },
  {
   "cell_type": "code",
   "execution_count": 237,
   "metadata": {
    "collapsed": false
   },
   "outputs": [
    {
     "name": "stdout",
     "output_type": "stream",
     "text": [
      "1\n",
      "2\n",
      "7\n",
      "11\n",
      "10\n",
      "3\n",
      "4\n"
     ]
    },
    {
     "data": {
      "text/plain": [
       "True"
      ]
     },
     "execution_count": 237,
     "metadata": {},
     "output_type": "execute_result"
    }
   ],
   "source": [
    "class Node(object):\n",
    "    def __init__(self, value):\n",
    "        self.value = value\n",
    "        self.left = None\n",
    "        self.right = None\n",
    "\n",
    "class BinaryTree(object):\n",
    "    def __init__(self, root):\n",
    "        self.root = Node(root)\n",
    "\n",
    "    def search(self, find_val):\n",
    "        \"\"\"Return True if the value\n",
    "        is in the tree, return\n",
    "        False otherwise.\"\"\"\n",
    "        \n",
    "        return self.preorder_search(self.root, find_val)\n",
    "\n",
    "    def print_tree(self):\n",
    "        \"\"\"Print out all tree nodes\n",
    "        as they are visited in\n",
    "        a pre-order traversal.\"\"\"\n",
    "        return self.preorder_print(self.root, \"\")[:-1]\n",
    "\n",
    "    def preorder_binary_search(self, start, find_val):\n",
    "        \"\"\"Helper method - use this to create a \n",
    "        recursive search solution.\"\"\"\n",
    "        print(start.value)\n",
    "        if start.value == find_val:\n",
    "            return True\n",
    "        elif find_val > start.value :\n",
    "            if start.right!=None:\n",
    "                return self.preorder_search(start.right, find_val)\n",
    "        elif find_val < start.value:\n",
    "            if start.left!=None:\n",
    "                return self.preorder_search(start.right, find_val)\n",
    "        \n",
    "        return False\n",
    "    \n",
    "    def preorder_search(self, start, find_val):\n",
    "        \"\"\"Helper method - use this to create a \n",
    "        recursive search solution.\"\"\"\n",
    "        print(start.value)\n",
    "        if start.value==find_val:\n",
    "            return True\n",
    "        if start.left!=None:\n",
    "            if self.preorder_search(start.left, find_val):\n",
    "                return True\n",
    "        if start.right!=None:\n",
    "            if self.preorder_search(start.right, find_val):\n",
    "                return True\n",
    "        return False\n",
    "    \n",
    "    \n",
    "    \n",
    "    def preorder_search_eff(self, start, find_val):\n",
    "        if start:\n",
    "            if start.value == find_val:\n",
    "                return True\n",
    "            else:\n",
    "                return self.preorder_search(start.left, find_val) or self.preorder_search(start.right, find_val)\n",
    "        return False\n",
    "\n",
    "    def preorder_print(self, start, traversal):\n",
    "        traversal= traversal + str(start.value) + \"-\"\n",
    "        print(\"trav: \",traversal)\n",
    "        if start.left!=None:\n",
    "            traversal = self.preorder_print(start.left, traversal)\n",
    "        \n",
    "        if start.right!=None:\n",
    "            traversal=self.preorder_print(start.right, traversal)\n",
    "        \n",
    "        return traversal\n",
    "            \n",
    "            \n",
    "\n",
    "# Set up tree\n",
    "tree = BinaryTree(1)\n",
    "tree.root.left = Node(2)\n",
    "tree.root.left.left = Node(7)\n",
    "tree.root.left.right = Node(10)\n",
    "tree.root.left.left.left = Node(11)\n",
    "tree.root.right = Node(3)\n",
    "tree.root.right.right = Node(4)\n",
    "tree.root.right.right.right = Node(5)\n",
    "\n",
    "# Test search\n",
    "# Should be True\n",
    "tree.search(4)\n",
    "# Should be False\n",
    "# print tree.search(6)\n",
    "\n",
    "# Test print_tree\n",
    "# Should be 1-2-4-5-3\n",
    "# print tree.print_tree()\n",
    "    \n",
    "    \n",
    "    \n",
    "\n",
    "    "
   ]
  },
  {
   "cell_type": "code",
   "execution_count": 238,
   "metadata": {
    "collapsed": false
   },
   "outputs": [
    {
     "name": "stdout",
     "output_type": "stream",
     "text": [
      "trav:  1-\n",
      "trav:  1-2-\n",
      "trav:  1-2-7-\n",
      "trav:  1-2-7-11-\n",
      "trav:  1-2-7-11-10-\n",
      "trav:  1-2-7-11-10-3-\n",
      "trav:  1-2-7-11-10-3-4-\n",
      "trav:  1-2-7-11-10-3-4-5-\n"
     ]
    },
    {
     "data": {
      "text/plain": [
       "'1-2-7-11-10-3-4-5'"
      ]
     },
     "execution_count": 238,
     "metadata": {},
     "output_type": "execute_result"
    }
   ],
   "source": [
    "tree.print_tree()"
   ]
  },
  {
   "cell_type": "markdown",
   "metadata": {},
   "source": [
    "##Unbalanced Tree\n",
    "![title](imgs/unbalancedTree.png)\n"
   ]
  },
  {
   "cell_type": "markdown",
   "metadata": {},
   "source": [
    "## Binary Search Tree using two classes"
   ]
  },
  {
   "cell_type": "code",
   "execution_count": 228,
   "metadata": {
    "collapsed": false
   },
   "outputs": [
    {
     "name": "stdout",
     "output_type": "stream",
     "text": [
      "True\n",
      "False\n"
     ]
    }
   ],
   "source": [
    "class Node(object):\n",
    "    def __init__(self, value):\n",
    "        self.value = value\n",
    "        self.left = None\n",
    "        self.right = None\n",
    "\n",
    "class BST(object):\n",
    "    def __init__(self, root):\n",
    "        self.root = Node(root)\n",
    "\n",
    "    def insert(self, new_val):\n",
    "        if self.root==None:\n",
    "            self.root = Node(new_val)\n",
    "        else:\n",
    "            self.insertHelper(self.root, new_val)\n",
    "            \n",
    "    def search(self, find_val):\n",
    "        \n",
    "        return self.searchHelper(self.root, find_val)\n",
    "    \n",
    "    def insertHelper(self, node, new_val):\n",
    "        if new_val > node.value:\n",
    "            if node.right!=None:\n",
    "                self.insertHelper(node.right, new_val)\n",
    "            else:\n",
    "                node.right = Node(new_val)\n",
    "        else:\n",
    "            if node.left!=None:\n",
    "                self.insertHelper(node.left, new_val)\n",
    "            else:\n",
    "                node.left = Node(new_val)\n",
    "                \n",
    "    def searchHelper(self, node, find_val):\n",
    "        if find_val == node.value:\n",
    "            return True\n",
    "        if find_val > node.value:\n",
    "            if node.right!=None:\n",
    "                return self.searchHelper(node.right, find_val)\n",
    "        else:\n",
    "            if node.left!=None:\n",
    "                return self.searchHelper(node.left, find_val)\n",
    "        \n",
    "        return False\n",
    "                \n",
    "# Set up tree\n",
    "tree = BST(4)\n",
    "\n",
    "# Insert elements\n",
    "tree.insert(2)\n",
    "tree.insert(1)\n",
    "tree.insert(3)\n",
    "tree.insert(5)\n",
    "\n",
    "# Check search\n",
    "# Should be True\n",
    "print(tree.search(4))\n",
    "# Should be False\n",
    "print(tree.search(6))"
   ]
  },
  {
   "cell_type": "markdown",
   "metadata": {},
   "source": [
    "## Longest path of binary tree"
   ]
  },
  {
   "cell_type": "code",
   "execution_count": 235,
   "metadata": {
    "collapsed": false
   },
   "outputs": [],
   "source": [
    "class TreeNode:\n",
    "    def __init__(self, val=0, left=None, right=None):\n",
    "        self.val = val\n",
    "        self.left = left\n",
    "        self.right = right\n",
    "        \n",
    "        \n",
    "class Solution:\n",
    "    def diameterOfBinaryTree(self, root: TreeNode) -> int:\n",
    "        pass"
   ]
  },
  {
   "cell_type": "code",
   "execution_count": 236,
   "metadata": {
    "collapsed": false
   },
   "outputs": [
    {
     "data": {
      "text/plain": [
       "<__main__.BST at 0x109d2b080>"
      ]
     },
     "execution_count": 236,
     "metadata": {},
     "output_type": "execute_result"
    }
   ],
   "source": [
    "tree.pr"
   ]
  },
  {
   "cell_type": "code",
   "execution_count": null,
   "metadata": {
    "collapsed": true
   },
   "outputs": [],
   "source": []
  }
 ],
 "metadata": {
  "anaconda-cloud": {},
  "kernelspec": {
   "display_name": "Python [Root]",
   "language": "python",
   "name": "Python [Root]"
  },
  "language_info": {
   "codemirror_mode": {
    "name": "ipython",
    "version": 3
   },
   "file_extension": ".py",
   "mimetype": "text/x-python",
   "name": "python",
   "nbconvert_exporter": "python",
   "pygments_lexer": "ipython3",
   "version": "3.5.6"
  }
 },
 "nbformat": 4,
 "nbformat_minor": 0
}
