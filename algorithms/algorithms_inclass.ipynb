{
 "cells": [
  {
   "cell_type": "code",
   "execution_count": 1,
   "metadata": {
    "collapsed": true
   },
   "outputs": [],
   "source": [
    "def find_number(parent_list, find_num):\n",
    "    for i in parent_list:\n",
    "        if i == find_num: # independent\n",
    "            return True\n",
    "    else: # related to for\n",
    "        # perform operations if the value you are trying to find in your for is not found\n",
    "        return False"
   ]
  },
  {
   "cell_type": "code",
   "execution_count": 2,
   "metadata": {
    "collapsed": true
   },
   "outputs": [],
   "source": [
    "x = [1,2,3,4,4,5,7]\n",
    "find_num = 20"
   ]
  },
  {
   "cell_type": "code",
   "execution_count": 4,
   "metadata": {
    "collapsed": false
   },
   "outputs": [
    {
     "data": {
      "text/plain": [
       "True"
      ]
     },
     "execution_count": 4,
     "metadata": {},
     "output_type": "execute_result"
    }
   ],
   "source": [
    "find_number(x, find_num=7)"
   ]
  },
  {
   "cell_type": "code",
   "execution_count": 5,
   "metadata": {
    "collapsed": false
   },
   "outputs": [
    {
     "ename": "SyntaxError",
     "evalue": "invalid syntax (<ipython-input-5-0751e1f4c57f>, line 4)",
     "output_type": "error",
     "traceback": [
      "\u001b[0;36m  File \u001b[0;32m\"<ipython-input-5-0751e1f4c57f>\"\u001b[0;36m, line \u001b[0;32m4\u001b[0m\n\u001b[0;31m    plat1 - > plate3 # plat1 is empty\u001b[0m\n\u001b[0m            ^\u001b[0m\n\u001b[0;31mSyntaxError\u001b[0m\u001b[0;31m:\u001b[0m invalid syntax\n"
     ]
    }
   ],
   "source": [
    "def swap(x):\n",
    "    temp = x[0]\n",
    "    x[0] = x[1]\n",
    "    x[1] = temp\n",
    "    return x\n",
    "\n",
    "x = [1,3]\n",
    "# swap(x) -> [3, 1]"
   ]
  },
  {
   "cell_type": "code",
   "execution_count": 6,
   "metadata": {
    "collapsed": true
   },
   "outputs": [],
   "source": []
  },
  {
   "cell_type": "code",
   "execution_count": 7,
   "metadata": {
    "collapsed": false
   },
   "outputs": [
    {
     "data": {
      "text/plain": [
       "[2, 3, 4, 1]"
      ]
     },
     "execution_count": 7,
     "metadata": {},
     "output_type": "execute_result"
    }
   ],
   "source": [
    "x = [2,3,4,2] temp = 1\n",
    "i = 0\n",
    "j = 3\n",
    "swapByIndex(x, i, j)"
   ]
  },
  {
   "cell_type": "code",
   "execution_count": 15,
   "metadata": {
    "collapsed": true
   },
   "outputs": [],
   "source": [
    "\"\"\"\n",
    "[3, 1, 7, 0, 8]\n",
    "[0, 1, 7, 3, 8]\n",
    "[0, 1, 7, 3, 8]\n",
    "[0, 1, 3, 8, 7]\n",
    "[0, 1, 3, 7, 8]\n",
    "\n",
    "\"\"\"\n",
    "def bubblesort(x):\n",
    "    for i in range(0, len(x)-1):\n",
    "        for j in range(i+1, len(x)): \n",
    "            if x[i] > x[j]:\n",
    "                temp = x[i]\n",
    "                x[i] = x[j]\n",
    "                x[j] = temp            \n",
    "            else:\n",
    "                pass\n",
    "    return x"
   ]
  },
  {
   "cell_type": "code",
   "execution_count": 16,
   "metadata": {
    "collapsed": true
   },
   "outputs": [],
   "source": [
    "x = [8,3,1,7,0]"
   ]
  },
  {
   "cell_type": "code",
   "execution_count": 17,
   "metadata": {
    "collapsed": false
   },
   "outputs": [
    {
     "data": {
      "text/plain": [
       "[0, 1, 3, 7, 8]"
      ]
     },
     "execution_count": 17,
     "metadata": {},
     "output_type": "execute_result"
    }
   ],
   "source": [
    "bubblesort(x)"
   ]
  },
  {
   "cell_type": "code",
   "execution_count": 12,
   "metadata": {
    "collapsed": false
   },
   "outputs": [
    {
     "name": "stdout",
     "output_type": "stream",
     "text": [
      "[1, 2, 4, 5, 6, 11, 14, 17, 17, 22, 25, 26, 32]\n"
     ]
    }
   ],
   "source": [
    "list2 = [1,  4, 11, 17, 25, 26, 32] \n",
    "pointer1 = 0\n",
    "list1 = [2, 5, 6, 14,17, 22]\n",
    "pointer2 = 0\n",
    "final_merged_list = []\n",
    "\n",
    "while pointer1 < len(list1) and pointer2 < len(list2): \n",
    "    if list1[pointer1] < list2[pointer2]: \n",
    "        final_merged_list.append(list1[pointer1])\n",
    "        pointer1 = pointer1+ 1\n",
    "    else:\n",
    "        final_merged_list.append(list2[pointer2])\n",
    "        pointer2 += 1\n",
    "    \n",
    "for i in range(pointer1, len(list1)):\n",
    "    final_merged_list.append(list1[i])\n",
    "    \n",
    "for j in range(pointer2, len(list2)):\n",
    "    final_merged_list.append(list2[j])\n",
    "\n",
    "print(final_merged_list)"
   ]
  },
  {
   "cell_type": "code",
   "execution_count": 31,
   "metadata": {
    "collapsed": false
   },
   "outputs": [],
   "source": [
    "def sampleFun(num): \n",
    "    result = 0    \n",
    "    for i in range(0, num+1):\n",
    "        result = result + i \n",
    "    return result\n"
   ]
  },
  {
   "cell_type": "code",
   "execution_count": 23,
   "metadata": {
    "collapsed": false
   },
   "outputs": [],
   "source": [
    "def sampleFunRecur(num):\n",
    "    if num <=1:   \n",
    "        return 1  # base condition\n",
    "    else:   # recursive loop\n",
    "        sumn = num + sampleFunRecur(num-1)\n",
    "                \n",
    "    return sumn"
   ]
  },
  {
   "cell_type": "code",
   "execution_count": 24,
   "metadata": {
    "collapsed": false
   },
   "outputs": [
    {
     "data": {
      "text/plain": [
       "6"
      ]
     },
     "execution_count": 24,
     "metadata": {},
     "output_type": "execute_result"
    }
   ],
   "source": [
    "sampleFunRecur(3)"
   ]
  },
  {
   "cell_type": "code",
   "execution_count": 32,
   "metadata": {
    "collapsed": false
   },
   "outputs": [
    {
     "name": "stdout",
     "output_type": "stream",
     "text": [
      "15\n"
     ]
    }
   ],
   "source": [
    "print(15)"
   ]
  },
  {
   "cell_type": "code",
   "execution_count": 46,
   "metadata": {
    "collapsed": true
   },
   "outputs": [],
   "source": [
    "\n",
    "def recursive_binarySearch(low, high, inputArray, value):\n",
    "    mid = (low+high)//2\n",
    "    if low > high:\n",
    "        return \"Not found\"\n",
    "    elif inputArray[mid]==value:\n",
    "        return mid\n",
    "    elif value > inputArray[mid]:\n",
    "        return recursive_binarySearch(mid+1,high, inputArray, value)\n",
    "    elif value < inputArray[mid]:\n",
    "        return recursive_binarySearch(low, mid-1, inputArray, value)\n",
    "\n"
   ]
  },
  {
   "cell_type": "code",
   "execution_count": 47,
   "metadata": {
    "collapsed": false
   },
   "outputs": [
    {
     "data": {
      "text/plain": [
       "'Not found'"
      ]
     },
     "execution_count": 47,
     "metadata": {},
     "output_type": "execute_result"
    }
   ],
   "source": [
    "inputArray = [1,3, 5, 6, 7, 9, 10, 11]\n",
    "value = 8\n",
    "low = 0\n",
    "high = len(inputArray)-1\n",
    "recursive_binarySearch(low, high, inputArray, value)"
   ]
  },
  {
   "cell_type": "code",
   "execution_count": 33,
   "metadata": {
    "collapsed": false
   },
   "outputs": [
    {
     "data": {
      "text/plain": [
       "8"
      ]
     },
     "execution_count": 33,
     "metadata": {},
     "output_type": "execute_result"
    }
   ],
   "source": [
    "len([1,3, 5, 6, 7, 9, 10, 11])"
   ]
  },
  {
   "cell_type": "code",
   "execution_count": 34,
   "metadata": {
    "collapsed": false
   },
   "outputs": [
    {
     "data": {
      "text/plain": [
       "4.0"
      ]
     },
     "execution_count": 34,
     "metadata": {},
     "output_type": "execute_result"
    }
   ],
   "source": [
    "8/2"
   ]
  },
  {
   "cell_type": "code",
   "execution_count": 35,
   "metadata": {
    "collapsed": false
   },
   "outputs": [
    {
     "data": {
      "text/plain": [
       "5"
      ]
     },
     "execution_count": 35,
     "metadata": {},
     "output_type": "execute_result"
    }
   ],
   "source": [
    "11//2"
   ]
  },
  {
   "cell_type": "code",
   "execution_count": 1,
   "metadata": {
    "collapsed": false
   },
   "outputs": [
    {
     "data": {
      "text/plain": [
       "120"
      ]
     },
     "execution_count": 1,
     "metadata": {},
     "output_type": "execute_result"
    }
   ],
   "source": [
    "def factorial(n):\n",
    "    if n<=1:# base condtion\n",
    "        return 1\n",
    "    # recursive condition    \n",
    "    return n * factorial(n-1)\n",
    "\n",
    "    \n",
    "# n (n-1) ()\n",
    "factorial(5)"
   ]
  },
  {
   "cell_type": "code",
   "execution_count": 18,
   "metadata": {
    "collapsed": false
   },
   "outputs": [],
   "source": [
    "def sumOfNnumbers(n):\n",
    "    print(\"value of n: \",n)\n",
    "    if n<=1:    # base conditon:\n",
    "        return 1\n",
    "    # recursion condition\n",
    "    value = sumOfNnumbers(n-1)\n",
    "    print(\"Vlues: \", value)\n",
    "    return n + value"
   ]
  },
  {
   "cell_type": "code",
   "execution_count": 20,
   "metadata": {
    "collapsed": false
   },
   "outputs": [
    {
     "name": "stdout",
     "output_type": "stream",
     "text": [
      "value of n:  2\n",
      "value of n:  1\n",
      "Vlues:  1\n"
     ]
    },
    {
     "data": {
      "text/plain": [
       "3"
      ]
     },
     "execution_count": 20,
     "metadata": {},
     "output_type": "execute_result"
    }
   ],
   "source": [
    "sumOfNnumbers(2)"
   ]
  },
  {
   "cell_type": "code",
   "execution_count": null,
   "metadata": {
    "collapsed": true
   },
   "outputs": [],
   "source": [
    "class Node:\n",
    "    def __init__(self, value):\n",
    "        self.value = value\n",
    "        self.next = None\n",
    "        \n",
    "        "
   ]
  }
 ],
 "metadata": {
  "anaconda-cloud": {},
  "kernelspec": {
   "display_name": "Python [Root]",
   "language": "python",
   "name": "Python [Root]"
  },
  "language_info": {
   "codemirror_mode": {
    "name": "ipython",
    "version": 3
   },
   "file_extension": ".py",
   "mimetype": "text/x-python",
   "name": "python",
   "nbconvert_exporter": "python",
   "pygments_lexer": "ipython3",
   "version": "3.5.6"
  }
 },
 "nbformat": 4,
 "nbformat_minor": 0
}
